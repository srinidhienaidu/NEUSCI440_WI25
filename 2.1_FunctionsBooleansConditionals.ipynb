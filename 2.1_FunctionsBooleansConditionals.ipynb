{
 "cells": [
  {
   "cell_type": "markdown",
   "id": "317c8d94",
   "metadata": {},
   "source": [
    "# Functions, Booleans, Conditionals\n",
    "In this notebook, we'll encounter another type of variable, a **Boolean**. We'll talk about the ways that we can use conditionals, and begin writing functions. We'll ultimately put all of this together to write a program that will test the value of some neural data.\n",
    " \n",
    "## At the end of this notebook, you'll be able to:\n",
    "* [Write a simple function](#functions)\n",
    "* [Recognize and use different types of operators (Boolean and comparison)](#operators)\n",
    "* [Write and test conditional statements in Python](#conditionals)\n",
    "* [Use these tools to test the GC content in a DNA string](#neural)\n",
    "\n",
    "<hr>"
   ]
  },
  {
   "cell_type": "markdown",
   "id": "25751d7b",
   "metadata": {},
   "source": [
    "## Import the demo dataset that we used in notebook 3 \n",
    "\n",
    "We will again use **real neural data** collected last year in 301 to practice with these operations. To reiterate - do not worry about what all of these importing calls mean yet! Just make sure to run this cell before any others that use page5_data or others."
   ]
  },
  {
   "cell_type": "code",
   "execution_count": 21,
   "id": "1390f7c2",
   "metadata": {},
   "outputs": [],
   "source": [
    "import neuscitk as ntk # imports neuscitk\n",
    "dataset = ntk.LabChartDataset(r'neusci302_demo.mat') # loads in our data. \n",
    "                                                    # Put your path between the single quotes if the current call isnt working, for example r'Users\\pascha\\Downloads\\demo_data.mat' \n",
    "                                                                                                                                # (with whatever backslash convention works for your laptop)\n",
    "data_1 = dataset.get_block(5)[0] # imports the first channel of a few pages\n",
    "data_2 = dataset.get_block(6)[0] # Feel free to change the number in the parentheses, but NOT the number in the brackets\n",
    "data_3 = dataset.get_block(7)[0]"
   ]
  },
  {
   "cell_type": "markdown",
   "id": "acfb78a2",
   "metadata": {},
   "source": [
    "<a id=\"Functions\"></a>\n",
    "\n",
    "## Functions\n",
    "\n",
    "A function has the following syntax:\n",
    "\n",
    "```\n",
    "    def function(a):  # name of your function and input variables   \n",
    "        a = a*2       # operation of your function\n",
    "        return a      # what your function will display \n",
    "```"
   ]
  },
  {
   "cell_type": "code",
   "execution_count": 22,
   "id": "8039c234",
   "metadata": {},
   "outputs": [],
   "source": [
    "# Define a function that does an operation on one of the datasets (data_1, data_2, etc) and returns the result\n"
   ]
  },
  {
   "cell_type": "code",
   "execution_count": 23,
   "id": "070f9e99",
   "metadata": {},
   "outputs": [],
   "source": [
    "# Run the function here\n"
   ]
  },
  {
   "cell_type": "markdown",
   "id": "3802c26b",
   "metadata": {},
   "source": [
    "### Additional notes about functions\n",
    "* We can add docstrings to define a function, by adding a statement wrapped by `'''` after the function name. This will come up when you use `help(function)`.\n",
    "* Functions can have many, many lines!\n",
    "* Functions can call other functions.\n",
    "* A **program** is one or more functions that work together."
   ]
  },
  {
   "cell_type": "markdown",
   "id": "c72ea731",
   "metadata": {},
   "source": [
    "### Default function values\n",
    "If we usually want a function to work one way, but occasionally need it to do something else, we can allow people to pass a parameter when they need to but provide a default to make the normal case easier. The example below shows how Python matches values to parameters:"
   ]
  },
  {
   "cell_type": "code",
   "execution_count": null,
   "id": "b51cfc57",
   "metadata": {},
   "outputs": [],
   "source": [
    "def display(a=1, b=2, c=3):\n",
    "    print('a:', a, 'b:', b, 'c:', c)\n",
    "\n",
    "print('no parameters:')\n",
    "display()\n",
    "print('one parameter:')\n",
    "display(55)\n",
    "print('two parameters:')\n",
    "display(55, 66)"
   ]
  },
  {
   "cell_type": "markdown",
   "id": "ee946706",
   "metadata": {},
   "source": [
    "As this example shows, parameters are matched up from left to right, and any that haven’t been given a value explicitly get their default value. We can override this behavior by naming the value as we pass it in:"
   ]
  },
  {
   "cell_type": "code",
   "execution_count": null,
   "id": "edb4cf7f",
   "metadata": {},
   "outputs": [],
   "source": [
    "print('only setting the value of c')\n",
    "display(c=77)"
   ]
  },
  {
   "cell_type": "markdown",
   "id": "e35a513a",
   "metadata": {},
   "source": [
    "# Operators"
   ]
  },
  {
   "cell_type": "markdown",
   "id": "34ea8420",
   "metadata": {
    "slideshow": {
     "slide_type": "slide"
    }
   },
   "source": [
    "<a id=\"Operators\"></a>\n",
    "   \n",
    "## Comparison and Boolean Operators\n",
    "\n",
    "We can use comparison operators to test the relationship between two objects. These statements return Booleans.\n",
    "\n",
    "**Booleans** are variables that store `True` or `False`. They are named after the British mathematician George Boole. He first formulated Boolean algebra, which are a set of rules for how to reason with and combine these values. This is the basis of all modern computer logic.\n",
    "\n",
    "**Note:** Capitalization *still* matters! TRUE is not a Boolean.\n",
    "\n",
    "\n",
    "| Symbol |    Operation   | Usage | Boolean Outcome |\n",
    "|:------:|:--------------:|:-----:|:-------:|\n",
    "|    ==   |  is equal to  |`10==5*2`| True | \n",
    "|    !=   | is not equal to | `10!=5*2` | False |\n",
    "|    >  | Greater than |  `10 > 2` | True |\n",
    "|    <   |    Less than    |  `10 < 2` | False |\n",
    "| >= | Greater than _or_ equal to | `10 >= 10` | True |\n",
    "| <= | Less than _or_ equal to | `10 >= 10` | True |\n"
   ]
  },
  {
   "cell_type": "markdown",
   "id": "06ac9b16",
   "metadata": {},
   "source": [
    "<div class=\"alert alert-success\"><b>Task:</b> Test each of the comparison operators, saving their output to a variable.</div>"
   ]
  },
  {
   "cell_type": "code",
   "execution_count": 26,
   "id": "250faf58",
   "metadata": {},
   "outputs": [],
   "source": [
    "# Use the comparison operators to explore how the lengths of the datasets above compare to each other\n",
    "    # Reminder, to get the length of a list, simply do len(list)\n"
   ]
  },
  {
   "cell_type": "markdown",
   "id": "5e1c5088",
   "metadata": {},
   "source": [
    "**Boolean operators** use Boolean logic, and include:\n",
    "- `and` : True if both are true\n",
    "- `or` : True if at least one is true\n",
    "- `not` : True only if false"
   ]
  },
  {
   "cell_type": "markdown",
   "id": "dc4a9a91",
   "metadata": {},
   "source": [
    "What will this statement return?"
   ]
  },
  {
   "cell_type": "code",
   "execution_count": null,
   "id": "ffc1c86e",
   "metadata": {},
   "outputs": [],
   "source": [
    "(6 > 10) and (4 == 4)"
   ]
  },
  {
   "cell_type": "markdown",
   "id": "2e455e4b",
   "metadata": {
    "slideshow": {
     "slide_type": "slide"
    }
   },
   "source": [
    "<div class=\"alert alert-success\"><b>Task:</b> Test each of the Boolean operations <code>and</code>, <code>or</code>, & <code>not</code> to see how these variables relate, putting integers, floats, and conditional statements on each side.</div>"
   ]
  },
  {
   "cell_type": "code",
   "execution_count": 28,
   "id": "aa4f31a2",
   "metadata": {
    "scrolled": true,
    "slideshow": {
     "slide_type": "fragment"
    }
   },
   "outputs": [],
   "source": [
    "# Test Boolean operators here, either on numbers or on the lengths of the neural data \n"
   ]
  },
  {
   "cell_type": "markdown",
   "id": "0a94fa36",
   "metadata": {},
   "source": [
    "### Short circuit evaluation!\n",
    "To determine the final result of an `and` expression, Python starts by evaluating the left operand. If it’s false, then the whole expression is false. In this situation, there’s no need to evaluate the operand on the right. Python already knows the final result. This is called **short circuit evaluation** and it saves Python time.\n",
    "\n",
    "Strings that contain any values return `True`. Strings that are empty (`''`) return `False`."
   ]
  },
  {
   "cell_type": "markdown",
   "id": "09a61303",
   "metadata": {},
   "source": [
    "<div class=\"alert alert-success\"><b>Task:</b> Test how Boolean operators work with strings, by testing <code>'a' and 'b'</code> and then <code>'b' and 'a'</code>.</div>"
   ]
  },
  {
   "cell_type": "code",
   "execution_count": null,
   "id": "9508c6a3",
   "metadata": {},
   "outputs": [],
   "source": [
    "# Test Boolean operators with strings\n",
    "\n",
    "'a' and 'b'"
   ]
  },
  {
   "cell_type": "markdown",
   "id": "2f36c931",
   "metadata": {},
   "source": [
    "<a id=\"conditionals\"></a>\n",
    "\n",
    "## Conditionals\n",
    "**Conditionals** are statements that check for a condition, using the `if` statement, and then only execute a set of code if the condition evaluates as `True`.\n",
    "\n",
    "- `if`\n",
    "- `elif` (else if): After an if, you can use elif statements to check additional conditions.\n",
    "- `else`: After an if, you can use an else that will run if the conditional(s) above have not run.\n",
    "\n",
    "### If/elif/else syntax\n",
    "- Indentation matters! Your statements in the `if` block need to be indented by a tab or four spaces.\n",
    "- You need a colon after `if`, `elif`, and `else`"
   ]
  },
  {
   "cell_type": "code",
   "execution_count": null,
   "id": "862ddb57",
   "metadata": {},
   "outputs": [],
   "source": [
    "condition = False\n",
    "\n",
    "if condition:\n",
    "    print('This code executes if the condition evaluates as True.')\n",
    "    \n",
    "else: \n",
    "    print('This code executes if the condition evaluates as False')"
   ]
  },
  {
   "cell_type": "markdown",
   "id": "7e0034bb",
   "metadata": {},
   "source": [
    "### Properties of Conditionals\n",
    "- Conditionals can take any expression that can be evaluated as `True` or `False`. \n",
    "- The order of conditional blocks is always `if` then `elif`(s) then `else`.\n",
    "- If the `elif` is at the end, it will never be tested, as the else will have already returned a value once reached (and Python will throw an error).\n",
    "- An `else` statement is not required, but if both the `if` and the `elif` condtions are not met (both evaluate as `False`), then nothing is returned.\n",
    "- **At most one component (`if` / `elif` / `else`) of a conditional will run**"
   ]
  },
  {
   "cell_type": "markdown",
   "id": "f24551eb",
   "metadata": {},
   "source": [
    "<a id=\"neural\"></a>\n",
    "\n",
    "# Writing a program to compare two neural datasets\n",
    "\n",
    "Below, there is a toy function to test the first values of some of the datasets above"
   ]
  },
  {
   "cell_type": "code",
   "execution_count": 31,
   "id": "15cd3814",
   "metadata": {},
   "outputs": [],
   "source": [
    "# Write our function\n",
    "\n",
    "def dataChecker(data_1, data_2):\n",
    "    \n",
    "    '''checks the equivalency of the first value of data_1 and data_2'''\n",
    "    \n",
    "    valuation = \"\" # Initialize our qualitative valuation of the first entry \n",
    "    \n",
    "    if data_1[0] > 0.05 and data_2[0] > 0.05:\n",
    "        valuation = \"Both high\"\n",
    "    if data_1[0] > 0.05 or data_2[0] > 0.05:\n",
    "        valuation = \"One high\"\n",
    "    if data_1[0] < 0.05 and data_2[0] < 0.05:\n",
    "        valuation = \"Both low\"\n",
    "    if data_1[0] < 0.05 or data_2[0] < 0.05:\n",
    "        valuation = \"One low\"\n",
    "    if data_1[0] == data_2[0]:\n",
    "        valuation = \"Equivalent\"\n",
    "        \n",
    "    return valuation"
   ]
  },
  {
   "cell_type": "code",
   "execution_count": 32,
   "id": "63a0063a",
   "metadata": {},
   "outputs": [],
   "source": [
    "# Call our function using the datasets we defined above\n"
   ]
  },
  {
   "cell_type": "markdown",
   "id": "748d4ea0",
   "metadata": {},
   "source": [
    "The `dataChecker` uses **conditional statements** to test whether a given value is greater or lower than 0.05. In other words, it is doing a **value comparison**. If either of those conditions are met, it changes a **string variable**. "
   ]
  },
  {
   "cell_type": "markdown",
   "id": "91692356",
   "metadata": {},
   "source": [
    "## Write your own! \n",
    "\n",
    "Play around with if, else, and elif statements (can you edit the function above to include these operators?), use different arrays for dataChecker, or write your own function that does something new!"
   ]
  },
  {
   "cell_type": "code",
   "execution_count": null,
   "id": "45760443",
   "metadata": {},
   "outputs": [],
   "source": []
  },
  {
   "cell_type": "markdown",
   "id": "42d140e6",
   "metadata": {},
   "source": [
    "<hr>\n",
    "\n",
    "## Additional Resources\n",
    "* <a href=\"https://merely-useful.github.io/py/py-dev-development.html\">Merely Useful Functions</a>\n",
    "* <a href=\"https://www.python-course.eu/python3_functions.php\">Python Course: Functions</a>\n",
    "* <a href=\"https://swcarpentry.github.io/python-novice-plotting/17-conditionals/\">Software Carpentries Conditionals</a>\n",
    "\n",
    "## About this notebook\n",
    "* This notebook is largely derived from UCSD COGS18 Materials, created by Tom Donoghue & Shannon Ellis, as well as exercises in [*Computing for Biologists*](https://www.cambridge.org/highereducation/books/computing-for-biologists/5B08EEEE2AE8A602113A8F225E89F5FD#overview)."
   ]
  }
 ],
 "metadata": {
  "kernelspec": {
   "display_name": "neusci440",
   "language": "python",
   "name": "python3"
  },
  "language_info": {
   "codemirror_mode": {
    "name": "ipython",
    "version": 3
   },
   "file_extension": ".py",
   "mimetype": "text/x-python",
   "name": "python",
   "nbconvert_exporter": "python",
   "pygments_lexer": "ipython3",
   "version": "3.13.1"
  }
 },
 "nbformat": 4,
 "nbformat_minor": 5
}
