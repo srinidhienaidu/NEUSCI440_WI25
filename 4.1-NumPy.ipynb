{
 "cells": [
  {
   "cell_type": "markdown",
   "id": "df1edd06",
   "metadata": {},
   "source": [
    "# NumPy\n",
    "\n",
    "In this notebook, we'll introduce NumPy, a popular Python library for scientific computing. First, we'll talk through some basic NumPy functionality, and then we'll use this knowledge to explore a dataset of patient inflammation.\n",
    "\n",
    "### At the end of this notebook, you'll be able to:\n",
    "- Explain what a library is and what libraries are used for\n",
    "- Import a Python library and use the functions it contains\n",
    "- Create NumPy arrays, and execute methods & access attributes of arrays\n",
    "- Read tabular data from a file into a program\n",
    "- Select individual values and subsections from data\n",
    "- Perform operations on arrays of data\n",
    "\n",
    "<hr>"
   ]
  },
  {
   "cell_type": "markdown",
   "id": "d0d9a49d",
   "metadata": {},
   "source": [
    "## Importing packages\n",
    "**NumPy** is a useful library that can help store and wrangle homogeneous data. \"Homogenous\" means that all data points within the data are of the same [data type](https://jakevdp.github.io/PythonDataScienceHandbook/02.01-understanding-data-types.html). In general, you should use this library when you want to do fancy things with lots of numbers, especially if you have matrices or arrays.\n",
    "\n",
    "Before we can use NumPy, we need to import the package. We can also nickname the modules when we import them. The convention is to import `numpy` as `np`. "
   ]
  },
  {
   "cell_type": "code",
   "execution_count": 24,
   "id": "2170d7a1",
   "metadata": {},
   "outputs": [],
   "source": [
    "# Import packages\n",
    "import numpy as np\n",
    "import matplotlib.pyplot as plt\n",
    "# Use whos to see available modules\n"
   ]
  },
  {
   "cell_type": "markdown",
   "id": "d9b02d88",
   "metadata": {},
   "source": [
    "Importing a library is like getting a piece of lab equipment out of a storage locker and setting it up on the bench. Libraries provide additional functionality to the basic Python package, much like a new piece of equipment adds functionality to a lab space. Just like in the lab, importing too many libraries can sometimes complicate and slow down your programs - so we only import what we need for each program.\n",
    "\n",
    "## Creating NumPy arrays\n",
    "Once we’ve imported the library, we can create in a few different ways:\n",
    "* from a Python list or tuples\n",
    "* by using functions that are dedicated to generating numpy arrays, such as `arange`, `linspace`, `empty`,`zeroes`, etc.\n",
    "* reading data from files"
   ]
  },
  {
   "cell_type": "code",
   "execution_count": null,
   "id": "e2ddb6b1",
   "metadata": {},
   "outputs": [],
   "source": [
    "# Create a list\n",
    "lst = [1,2,3,4,5]\n",
    "\n",
    "# Make our list into an array\n",
    "my_vector = np.array()"
   ]
  },
  {
   "cell_type": "code",
   "execution_count": null,
   "id": "03cae7a1",
   "metadata": {},
   "outputs": [],
   "source": [
    "# If we give numpy a list of lists, it will create a matrix\n",
    "my_matrix = np.array([lst,lst])\n",
    "print(my_matrix)"
   ]
  },
  {
   "cell_type": "markdown",
   "id": "c6d85d94",
   "metadata": {},
   "source": [
    "### Data Type\n",
    "\n",
    "A NumPy array contains one or more elements of the same type. The `type` function will only tell you that a variable is a NumPy array but won't tell you the type of thing inside the array. We can find out the type of the data contained in the NumPy array using an attribute of the array, `dtype`."
   ]
  },
  {
   "cell_type": "code",
   "execution_count": null,
   "id": "6d13fa92",
   "metadata": {},
   "outputs": [],
   "source": [
    "# Check dtype attribute\n"
   ]
  },
  {
   "cell_type": "markdown",
   "id": "a05ae9e1",
   "metadata": {},
   "source": [
    "Array data type is decided upon creation of the array. You can explicitly define the data type by using `dtype= ` when you use `np.array()`. You can set the dtype to be `int, float, complex, bool, object`, etc\n",
    "\n",
    "We can test shape and size either by looking at the `shape` attribute of the array, or by using the `shape()` and `size()` functions. Other attributes that might be of interest are `ndim`."
   ]
  },
  {
   "cell_type": "markdown",
   "id": "53c46ffc",
   "metadata": {},
   "source": [
    "<div class=\"alert alert-success\">\n",
    "\n",
    "**Task**: Create an array of booleans called `bool_array` that is 2 rows x 3 columns. Access the `shape` and `ndim` attributes to confirm its size, and the `dtype` attribute to confirm that it is boolean.\n",
    "\n",
    "</div>"
   ]
  },
  {
   "cell_type": "code",
   "execution_count": null,
   "id": "21065cda",
   "metadata": {},
   "outputs": [],
   "source": [
    "# Your code here\n"
   ]
  },
  {
   "cell_type": "markdown",
   "id": "19033062",
   "metadata": {},
   "source": [
    "We can also index arrays using booleans or lists. When we use Booleans, we can think of this as **subsetting** or filtering the array. For example:"
   ]
  },
  {
   "cell_type": "code",
   "execution_count": null,
   "id": "efd0ca2a",
   "metadata": {},
   "outputs": [],
   "source": [
    "# Index with an operator\n",
    "bool_matrix = my_matrix[my_matrix>2]\n",
    "\n",
    "# Index with a list of coordinates\n",
    "list_matrix = my_matrix[[0,1],[1,3]]\n",
    "\n",
    "print(my_matrix)\n",
    "print(bool_matrix)\n",
    "print(list_matrix)"
   ]
  },
  {
   "cell_type": "markdown",
   "id": "6f84acb4",
   "metadata": {},
   "source": [
    "<div class=\"alert alert-success\">\n",
    "\n",
    "**Task**: Filter the `bool_array` you created above to create a `true_array` that only contains True values.\n",
    "\n",
    "</div>"
   ]
  },
  {
   "cell_type": "code",
   "execution_count": null,
   "id": "ad731418",
   "metadata": {},
   "outputs": [],
   "source": [
    "true_array = ..."
   ]
  },
  {
   "cell_type": "markdown",
   "id": "28c66007",
   "metadata": {},
   "source": [
    "### Benefits of using arrays\n",
    "In addition to being less clunky & a bit faster than lists of lists, arrays can do a lot of things that lists can't. For example, we can add and multiply them. Alternatively, we can use the `sum` method to sum across a specific axis."
   ]
  },
  {
   "cell_type": "code",
   "execution_count": null,
   "id": "3ef61108",
   "metadata": {},
   "outputs": [],
   "source": [
    "sum_list = [1,3,5] + [3,5,7]\n",
    "sum_array = np.array([1,3,5]) + np.array([3,5,7])\n",
    "mult_array = np.array([1,3,5]) * np.array([3,5,7])\n",
    "\n",
    "print(sum_list)\n",
    "print(mult_array)"
   ]
  },
  {
   "cell_type": "code",
   "execution_count": null,
   "id": "47a13db9",
   "metadata": {},
   "outputs": [],
   "source": [
    "this_array = np.array([[1,3,5],[3,5,7]])\n",
    "sum_rows = this_array.sum(axis=1)\n",
    "print(this_array)\n",
    "print(sum_rows)"
   ]
  },
  {
   "cell_type": "markdown",
   "id": "8631422f",
   "metadata": {},
   "source": [
    "### Numpy also includes some very useful array generating functions:\n",
    "\n",
    "* `arange`: like `range` but gives you a useful numpy array, instead of an interator, and can use more than just integers)\n",
    "* `linspace` creates an array with given start and end points, and a desired number of points\n",
    "* `logspace` same as linspace, but in log.\n",
    "* `random` can create a random list (there are <a href=\"https://docs.scipy.org/doc/numpy-1.14.0/reference/routines.random.html\">many different ways to use this</a>)\n",
    "* `concatenate` which can concatenate two arrays along an existing axis [<a href=\"https://docs.scipy.org/doc/numpy/reference/generated/numpy.concatenate.html\">documentation</a>]\n",
    "* `hstack` and `vstack` which can horizontally or vertically stack arrays\n",
    "* `eye` can create a matrix with 1's on the diagonal and 0's everywhere else  -- *we'll come back to this later!*\n",
    "* `diag` can construct a diagonal array -- *we'll come back to this later!*\n",
    "\n",
    "Whenever we call these, we need to use whatever name we imported numpy as (here, `np`)."
   ]
  },
  {
   "cell_type": "code",
   "execution_count": null,
   "id": "8599e849",
   "metadata": {},
   "outputs": [],
   "source": [
    "# When using linspace, both end points are included!\n",
    "np.linspace(0,147,10)"
   ]
  },
  {
   "cell_type": "markdown",
   "id": "67b33520",
   "metadata": {},
   "source": [
    "<div class=\"alert alert-success\">\n",
    "\n",
    "**Task**: Create an array called `big_array` that has two rows. The first row should be a list of 10 numbers that are evenly spaced, and range from exactly 1 to 100. The second row should be a list of 10 numbers that begin at 0 and are exactly 10 apart. `big_array` should have a shape (2,10): two rows, and ten columns. Lastly, reassign the last value of each row in the array to be -100. \n",
    "\n",
    "*Hint*: Create your two arrays, and then use the `vstack` method to stack them.\n",
    "\n",
    "</div>"
   ]
  },
  {
   "cell_type": "code",
   "execution_count": null,
   "id": "775ebe78",
   "metadata": {},
   "outputs": [],
   "source": [
    "big_array = ..."
   ]
  },
  {
   "cell_type": "markdown",
   "id": "b5789076",
   "metadata": {},
   "source": [
    "Numpy also has built in methods to save and load arrays: `np.save()` and `np.load()`. Numpy files have a .npy extension.\n",
    "\n",
    "See full documentation <a href=\"https://docs.scipy.org/doc/numpy/reference/generated/numpy.save.html\">here</a>."
   ]
  },
  {
   "cell_type": "code",
   "execution_count": null,
   "id": "25da1105",
   "metadata": {},
   "outputs": [],
   "source": [
    "# Save method takes arguments 'filename' and then 'array':\n",
    "np.save('matrix',my_matrix)"
   ]
  },
  {
   "cell_type": "code",
   "execution_count": null,
   "id": "5b487fab",
   "metadata": {},
   "outputs": [],
   "source": [
    "my_new_matrix = np.load('matrix.npy')\n",
    "my_new_matrix"
   ]
  },
  {
   "cell_type": "markdown",
   "id": "6090d893",
   "metadata": {},
   "source": [
    "<hr>\n",
    "\n",
    "## Importing real neural data\n",
    "\n",
    "We will analyze real neural data recorded using a 100-electrode array in the premotor cortex of a macaque monkey. The neural data has been generously provided by the Professor Matt Golub, in the CSE department at the University of Washington for educational purposes only. \n",
    "The .npy file contains a numpy array of dimensions (182 trials) x (8 reaching angles). The array contains spike trains recorded from a single neuron while a monkey reached 182 times along each of the 8 different reaching angles (See Figure). \n",
    "\n",
    "We will be naming our data as \"trials\", and learning how to index into this data structure to look at the spike train for the **_nth_** trial of the **_kth_** reaching angle. \n",
    "\n",
    "A spike train is represented as a sequence of zeros and ones, where time is discretized in 1 ms steps. A zero indicates that the neuron did not spike in the 1 ms bin, whereas a one indicates that the neuron spiked once in the 1 ms bin. Due to the refractory period, it is not possible for a neuron to spike more than once within a 1 ms bin. Each spike train is 500 ms long and is, thus, represented accordingly by the shape of the data vector.\n",
    "\n",
    "Give this paper a look– this data comes from this same type of experimental paradigm! The paper is a little dense, but it is  valuable to appreciate how beautifully the content and figures are laid out. https://www.jneurosci.org/content/jneuro/27/40/10742.full.pdf.  \n",
    "\n",
    "<!-- Each spike train is (X) ms long and is, thus, represented by a 1x500 vector. -->\n",
    "\n",
    "<img src=\"Screenshot 2025-01-30 at 8.06.51 PM.png\"\n",
    "     alt=\"Figure 1, Chestek et al. (2007)\" />\n",
    "<!-- ![]() -->"
   ]
  },
  {
   "cell_type": "markdown",
   "id": "9321f415",
   "metadata": {},
   "source": [
    "### Loading in the data\n",
    "First, we'll use NumPy to read in our data file for us. Please note that this file, `HW1_data.npy` is contained in same folder as this current notebook."
   ]
  },
  {
   "cell_type": "code",
   "execution_count": 33,
   "id": "26cc734e",
   "metadata": {},
   "outputs": [
    {
     "name": "stdout",
     "output_type": "stream",
     "text": [
      "(182, 8)\n"
     ]
    }
   ],
   "source": [
    "trials = np.load('HW1_data.npy', allow_pickle=True)"
   ]
  },
  {
   "cell_type": "markdown",
   "id": "df0b3fa4",
   "metadata": {},
   "source": [
    "Now that the data are in memory, we can manipulate them.\n",
    "First, let's ask what **type** of thing `data` refers to:"
   ]
  },
  {
   "cell_type": "markdown",
   "id": "cb3a41b1",
   "metadata": {},
   "source": [
    "The output tells us that `trials` currently refers to an N-dimensional array, the functionality for which is provided by the NumPy library. Each data point corresponds to an individual spike train. The rows are the trials, and the columns are for each reach angle.\n",
    "\n",
    "<div class=\"alert alert-success\">\n",
    "\n",
    "**Task**: Check the data type and shape in our `trials` array.\n",
    "\n",
    "</div>"
   ]
  },
  {
   "cell_type": "code",
   "execution_count": null,
   "id": "0a616344",
   "metadata": {},
   "outputs": [],
   "source": [
    "# Your code here\n"
   ]
  },
  {
   "cell_type": "markdown",
   "id": "2703c0b5",
   "metadata": {},
   "source": [
    "The output tells us that the data array variable contains 182 **rows** and 8 **columns** that are **integer values**. When we created the variable `trials` to store our data, we did not only create the array; we also created information about the array, called attributes. This extra information describes data in the same way an adjective describes a noun. `trials.shape` is an attribute of data which describes the dimensions of data. We use the same dotted notation for the attributes of variables that we use for the functions in libraries because they have the same part-and-whole relationship.\n",
    "\n",
    "## Indexing arrays\n",
    "\n",
    "If we want to get a single number from the array, we must provide an **index** in square brackets after the variable name, just as we did for strings and lists, and just as we do in math when referring to an element of a matrix. \n",
    "\n",
    "Indexing and slicing 1D arrays (vectors) is similar to indexing lists. \n",
    "* You can index arrays using `[row,column]`. If you omit the column, it will give you the whole row.\n",
    "* If you use `:` for either row or column, it will give you all of those values.\n",
    "\n",
    "Our neural data has two dimensions, so we will need to use two indices to refer to one specific value. \n",
    "We can use this to index into different trials and reach angles. This will allow us to see how this cell responds at each trial. \n",
    "\n",
    "Go ahead and print out the 30th trial for the 2nd reach angle below. \n",
    "\n",
    "<!-- After that, print out the shape of the sample trial. What does this shape tell us? After looking at the 8th trial of the 2nd reach angle, play around and print out the lengths of other trials and angles. What do you notice? -->"
   ]
  },
  {
   "cell_type": "code",
   "execution_count": null,
   "id": "2de349d6",
   "metadata": {},
   "outputs": [],
   "source": [
    "# Your code here \n",
    "sample_trial = ..."
   ]
  },
  {
   "cell_type": "markdown",
   "id": "44bbb979",
   "metadata": {},
   "source": [
    "The expression `data[30, 2]` accesses the element at row 30, column 2. While this expression may not surprise you, `data[0, 0]` might. As a result, if we have an M×N array in Python, its indices go from 0 to M-1 on the first axis and 0 to N-1 on the second. It takes a bit of getting used to, but one way to remember the rule is that the index is how many steps we have to take from the start to get the item we want.\n",
    "\n",
    "![](Images/python-zero-index.svg)\n",
    "\n",
    ">What may also surprise you is that when Python displays an array, it shows the element with index `[0, 0]` in the upper left corner rather than the lower left. This is consistent with the way mathematicians draw matrices but different from the Cartesian coordinates. The indices are (row, column) instead of (column, row) for the same reason, which can be confusing when plotting data.\n",
    "\n",
    "## Slicing arrays\n",
    "\n",
    "An index like `[30, 2]` selects a single element of an array, but we can select whole sections as well. \n",
    "\n",
    "<div class=\"alert alert-success\">\n",
    "\n",
    "**Task**: Select the first **ten** trials (rows) of values for the first **2** reach angles (columns).\n",
    "\n",
    "</div>"
   ]
  },
  {
   "cell_type": "code",
   "execution_count": null,
   "id": "e569220f",
   "metadata": {},
   "outputs": [],
   "source": []
  },
  {
   "cell_type": "markdown",
   "id": "c2ed9841",
   "metadata": {},
   "source": [
    "## Analyzing data\n",
    "\n",
    "Before we move on, its important to undestand *_what_* our data actually is! Go ahead and print out a sample trial and column's data. "
   ]
  },
  {
   "cell_type": "code",
   "execution_count": null,
   "id": "917274b8",
   "metadata": {},
   "outputs": [],
   "source": [
    "# Your code here\n",
    "explore_data = ..."
   ]
  },
  {
   "cell_type": "markdown",
   "id": "83d50d65",
   "metadata": {},
   "source": [
    "Now, print out the shape of this variable. What does this shape tell us? (Hint: Scroll back to the initial figure and \"Importing real neural data\" section)"
   ]
  },
  {
   "cell_type": "code",
   "execution_count": null,
   "id": "e2f1a3d2",
   "metadata": {},
   "outputs": [],
   "source": []
  },
  {
   "cell_type": "markdown",
   "id": "aa8a6b4e",
   "metadata": {},
   "source": [
    "Hopefully you were able to see that the length of each data point is a representation across time. We can play around with additional python functions such as `mean` to further build intuition about our data. "
   ]
  },
  {
   "cell_type": "markdown",
   "id": "c5277902",
   "metadata": {},
   "source": [
    "NumPy has several useful functions that take an array as input to perform operations on its values. If we want to find the average inflammation for all patients on all days, for example, we can ask NumPy to compute `data`’s mean value. `mean` is a function that takes an array as an argument.  We can also specify the axis across which we want to take the mean– in this case, that will be across the rows."
   ]
  },
  {
   "cell_type": "code",
   "execution_count": 44,
   "id": "ece435c7",
   "metadata": {},
   "outputs": [],
   "source": [
    "means_axis_0 = (np.mean(trials, axis = 0))"
   ]
  },
  {
   "cell_type": "markdown",
   "id": "273b4741",
   "metadata": {},
   "source": [
    "Go ahead and print the shape of our `means_axis_0` variable below. What does this shape allow you to intuit about the mean? Additionally, try to print out a single element of `means_axis_0`. What is the shape, and again, what does this data actually *_mean_*"
   ]
  },
  {
   "cell_type": "code",
   "execution_count": null,
   "id": "35d1b696",
   "metadata": {},
   "outputs": [],
   "source": [
    "# Your code"
   ]
  },
  {
   "cell_type": "markdown",
   "id": "83c849a5",
   "metadata": {},
   "source": [
    "Let’s use three other NumPy functions to get some descriptive values about the dataset. \n",
    "\n",
    "<div class=\"alert alert-success\"> <b>Task</b>: Print the maximum value, minimum value, and standard deviation of data. You can choose to do so over either axis, or for the entire data set! Regardless of your choice, find a PF and share your understanding with them</div>"
   ]
  },
  {
   "cell_type": "code",
   "execution_count": 2,
   "id": "fbd0a41c",
   "metadata": {},
   "outputs": [],
   "source": [
    "# Max, min, and std here\n",
    "\n"
   ]
  },
  {
   "cell_type": "markdown",
   "id": "613c80ef",
   "metadata": {},
   "source": [
    "<hr>\n",
    "\n",
    "##  Key NumPy takeaways\n",
    "\n",
    "- Import a library into a program using `import libraryname`.\n",
    "- Use the NumPy library to work with arrays in Python.\n",
    "- The expression array.shape gives the shape of an array.\n",
    "- Use `array[x, y]` to select a single element from a 2D array.\n",
    "- Array indices start at 0, not 1.\n",
    "- Use `low:high` to specify a slice that includes the indices from low to high-1.\n",
    "- Use `np.mean(array)`, `np.max(array)`, and `np.min(array)` to calculate simple statistics.\n",
    "- Use `np.mean(array, axis=0)` or `np.mean(array, axis=1)` to calculate statistics across the specified axis.\n",
    "\n",
    "<hr>\n",
    "\n",
    "## About this notebook\n",
    "The second half of this notebook is based on [this notebook](https://swcarpentry.github.io/python-novice-inflammation/02-numpy/index.html) from the Software Carpentries and is licensed under a CC-BY-40 license (2018-2021):\n",
    "\n",
    "> Azalee Bostroem, Trevor Bekolay, and Valentina Staneva (eds):\n",
    "\"Software Carpentry: Programming with Python.\"  Version 2016.06, June\n",
    "2016, https://github.com/swcarpentry/python-novice-inflammation,\n",
    "10.5281/zenodo.57492.\n",
    "\n",
    "This notebook also takes inspiration from UCSD COGS18 Materials, created by Tom Donoghue & Shannon Ellis, as well as <a href=\"https://github.com/jrjohansson/scientific-python-lectures/blob/master/Lecture-2-Numpy.ipynb\">JR Johannson's Scientific Python Lecture on Numpy</a>.\n",
    "\n"
   ]
  }
 ],
 "metadata": {
  "kernelspec": {
   "display_name": "cse599n",
   "language": "python",
   "name": "python3"
  },
  "language_info": {
   "codemirror_mode": {
    "name": "ipython",
    "version": 3
   },
   "file_extension": ".py",
   "mimetype": "text/x-python",
   "name": "python",
   "nbconvert_exporter": "python",
   "pygments_lexer": "ipython3",
   "version": "3.8.19"
  }
 },
 "nbformat": 4,
 "nbformat_minor": 5
}
