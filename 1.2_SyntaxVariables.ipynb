{
  "cells": [
    {
      "cell_type": "markdown",
      "id": "6553d7be",
      "metadata": {
        "id": "6553d7be"
      },
      "source": [
        "# Syntax & Variables\n",
        "This notebook will introduce you Python syntax & variable types.\n",
        "\n",
        "### At the end of this notebook, you'll be able to:\n",
        "* Identify fundamental rules of Python **syntax**\n",
        "* Assign <b>variables</b> and manipulate them\n",
        "* Interpret basic **errors** while running Jupyter Notebooks\n",
        "\n",
        "<hr>"
      ]
    },
    {
      "cell_type": "markdown",
      "id": "9ea2e14d",
      "metadata": {
        "id": "9ea2e14d"
      },
      "source": [
        "## Part I. Python Syntax\n",
        "\n",
        "### Test #1: Do spaces matter in Python?\n",
        "\n",
        "We can run experiments in coding, just like we can in biology. Here, we'll run a small experiment to test whether or not spaces matter. In the cell above, we showed you an example of using a `print` statement to display a line of text.\n",
        "\n",
        "> **Task**: What do you think will happen if you add a space after `print`, before the parentheses? Test your hypothesis in the blank cell below"
      ]
    },
    {
      "cell_type": "code",
      "execution_count": null,
      "id": "c9cd07eb",
      "metadata": {
        "id": "c9cd07eb"
      },
      "outputs": [],
      "source": [
        "# Test print here\n",
        "print('testing')\n"
      ]
    },
    {
      "cell_type": "markdown",
      "id": "086e797a",
      "metadata": {
        "id": "086e797a"
      },
      "source": [
        "### Test #2: Does capitalization matter in Python?\n",
        "> **Task** Similar to above, test whether or not capitalization matters here by capitalizing \"print\"!"
      ]
    },
    {
      "cell_type": "code",
      "execution_count": null,
      "id": "6bbcb21c",
      "metadata": {
        "id": "6bbcb21c"
      },
      "outputs": [],
      "source": [
        "# Test here\n",
        "print('testing')"
      ]
    },
    {
      "cell_type": "markdown",
      "id": "6ae27fee",
      "metadata": {
        "id": "6ae27fee"
      },
      "source": [
        "So, Python cares about capitalization, but not spacing (at least in this example). Usefully, Python is also giving us an error message: `NameError: name 'Print' is not defined`.\n",
        "\n",
        "Error messages are extremely useful hints as to why your code may not be working. This one falls into the category \"Name error\". In Google, search \"NameError + Python\" and use this to define a NameError in the box below."
      ]
    },
    {
      "cell_type": "markdown",
      "id": "110d2745",
      "metadata": {
        "id": "110d2745"
      },
      "source": [
        "**NameError**:"
      ]
    },
    {
      "cell_type": "markdown",
      "id": "4e720609",
      "metadata": {
        "id": "4e720609"
      },
      "source": [
        "Essentially, Python is telling us that it doesn't know what `Print` is. There's another clue in this notebook telling us that Python is treating `print` and `Print` differently -- can you tell what it is? Write your observations below."
      ]
    },
    {
      "cell_type": "markdown",
      "id": "60c3c4e5",
      "metadata": {
        "id": "60c3c4e5"
      },
      "source": [
        "**Observations**:"
      ]
    },
    {
      "cell_type": "markdown",
      "id": "9859e63d",
      "metadata": {
        "id": "9859e63d"
      },
      "source": [
        "### Test #3: Do indents or white space matter?\n",
        "\n",
        "One final test! Does Python care about indents (or spaces in front of the code), or white space (blank lines in between lines of code)? Create a Code cell to test these, and then a new Markdown cell to write your observations below."
      ]
    },
    {
      "cell_type": "markdown",
      "id": "17e9a354",
      "metadata": {
        "id": "17e9a354"
      },
      "source": [
        "## Part II. Variables\n",
        "Variables enable us to store a value and come back to it later. They are defined with `name = value`. *Assignment is not the same thing as equality,* as in mathematics.\n",
        "\n",
        "### Assigning variables"
      ]
    },
    {
      "cell_type": "markdown",
      "id": "5e1e23a9",
      "metadata": {
        "id": "5e1e23a9"
      },
      "source": [
        "<div class=\"alert alert-success\"><b>Task:</b> Create two variables: a & b. Then, use an expression that combines a and b, and assign this to c. In the end, c should be equal to 6.</div>"
      ]
    },
    {
      "cell_type": "code",
      "execution_count": null,
      "id": "b8692c87",
      "metadata": {
        "id": "b8692c87"
      },
      "outputs": [],
      "source": [
        "# Let's save a few integers and then manipulate them.\n",
        "a = 2\n"
      ]
    },
    {
      "cell_type": "markdown",
      "id": "8af8e2dd",
      "metadata": {
        "id": "8af8e2dd"
      },
      "source": [
        "<b>Note</b>: Most code cells will not give you an output unless you ask for it. You can use `print( )` to output a variable or string. However, cells that *only* contain one variable will print its value.\n",
        "\n",
        "<div class=\"alert alert-success\"><b>Task:</b> Create a cell below and print your variable <code>c</code>.\n",
        "    </div>"
      ]
    },
    {
      "cell_type": "markdown",
      "id": "84240bcb",
      "metadata": {
        "id": "84240bcb"
      },
      "source": [
        "### Types of Variables\n",
        "Variables can be different types. Python lets you change the type of variables (the function is in parentheses below), however, *you cannot combine types*.\n",
        "\n",
        "* Integers (`int`)\n",
        "* String (`str`): letters, numbers, symbols, spaces\n",
        "* Float (`float`): any number with a decimal point (floating point number)\n",
        "\n",
        "You can check what type your variable is by using `type(variable)`.\n",
        "You can change your variable type by setting a new variable equal to `int(variable)`, `str(variable)`, or `float(variable)`\n",
        "\n",
        "<b>Note</b>: If you ever need help using a function (e.g., `type`) in Jupyter Notebook, you can enter the function followed by a question mark or `help(function)`. For example, `type?` or `help(type)`. You can also check <a href=\"https://www.geeksforgeeks.org/python-type-function/\">the documentation</a>.\n",
        "\n",
        "<b>Reminder:</b> Jupyter will only show you the last line of code in your cell. If you'd like to see more lines, use `print()`.\n",
        "\n",
        "\n",
        "<div class=\"alert alert-success\"><b>Task:</b> In the cell below, assign <b>101</b> to <code>my_variable</code>, predict what type of variable <code>my_variable</code> is, and check the type of your variable with a print statement.</div>\n",
        "\n",
        "*Hint*: You can wrap commands in other commands. For example, we could write `print(type(variable))`."
      ]
    },
    {
      "cell_type": "code",
      "execution_count": 4,
      "id": "c568d9ef",
      "metadata": {
        "id": "c568d9ef",
        "colab": {
          "base_uri": "https://localhost:8080/",
          "height": 108
        },
        "outputId": "9133798f-d26b-42a4-de2e-cd7844ee7f77"
      },
      "outputs": [
        {
          "output_type": "error",
          "ename": "SyntaxError",
          "evalue": "invalid syntax (<ipython-input-4-2a3074afc6e6>, line 2)",
          "traceback": [
            "\u001b[0;36m  File \u001b[0;32m\"<ipython-input-4-2a3074afc6e6>\"\u001b[0;36m, line \u001b[0;32m2\u001b[0m\n\u001b[0;31m    my_variable =\u001b[0m\n\u001b[0m                 ^\u001b[0m\n\u001b[0;31mSyntaxError\u001b[0m\u001b[0;31m:\u001b[0m invalid syntax\n"
          ]
        }
      ],
      "source": [
        "# Check the type of my_variable here\n",
        "my_variable =\n"
      ]
    },
    {
      "cell_type": "markdown",
      "id": "ba853600",
      "metadata": {
        "id": "ba853600"
      },
      "source": [
        "Different operators in Python will produce different types of variables.\n",
        "\n",
        "<div class=\"alert alert-success\"><b>Task:</b> Compare the results of 12/2 and 12//2 by assigning the results of these operations to two different variables. Then, use the <code>int</code> and <code>float</code> functions to transform these variables into an integer and a float called: <code>result_int</code> and <code>result_float</code>.</div>"
      ]
    },
    {
      "cell_type": "code",
      "execution_count": null,
      "id": "93a96a7d",
      "metadata": {
        "id": "93a96a7d"
      },
      "outputs": [],
      "source": [
        "# Write your code here\n"
      ]
    },
    {
      "cell_type": "code",
      "execution_count": null,
      "id": "bcff3f71",
      "metadata": {
        "id": "bcff3f71"
      },
      "outputs": [],
      "source": [
        "# Add your float and int here\n"
      ]
    },
    {
      "cell_type": "markdown",
      "id": "cbc8ddf0",
      "metadata": {
        "id": "cbc8ddf0"
      },
      "source": [
        "We can use the command `round( )` to round a float number to a whole number.\n",
        "\n",
        "<div class=\"alert alert-success\"><b>Task:</b> Try round with a float below, and print your result. What kind of variable does this create?</div>"
      ]
    },
    {
      "cell_type": "code",
      "execution_count": null,
      "id": "f4ae2505",
      "metadata": {
        "id": "f4ae2505"
      },
      "outputs": [],
      "source": [
        "# Try round() here\n"
      ]
    },
    {
      "cell_type": "markdown",
      "id": "67ac1ccd",
      "metadata": {
        "id": "67ac1ccd"
      },
      "source": [
        "## Declaring Variables Cheat Sheet\n",
        "Not *every* word or combination of words and numbers can be a variable name. For example, Python has a list of <b>reserved keywords</b> that cannot be variable names:\n",
        "\n",
        "<table type=\"text/css\">\n",
        "  <tr>\n",
        "      <td><code>False</code></td>\n",
        "      <td><code>None</code></td>\n",
        "      <td><code>True</code></td>\n",
        "      <td><code>and</code></td>\n",
        "      <td><code>as</code></td>\n",
        "      <td><code>assert</code></td>\n",
        "      <td><code>break</code></td>\n",
        "  </tr>\n",
        "  <tr>\n",
        "      <td><code>class</code></td>\n",
        "      <td><code>continue</code></td>\n",
        "      <td><code>def</code></td>\n",
        "      <td><code>del</code></td>\n",
        "      <td><code>elif</code></td>\n",
        "      <td><code>else</code></td>\n",
        "      <td><code>except</code></td>\n",
        "  </tr>\n",
        "  <tr>\n",
        "      <td><code>finally</code></td>\n",
        "      <td><code>for</code></td>\n",
        "      <td><code>from</code></td>\n",
        "      <td><code>global</code></td>\n",
        "      <td><code>if</code></td>\n",
        "      <td><code>import</code></td>\n",
        "      <td><code>in</code></td>\n",
        "  </tr>\n",
        "  <tr>\n",
        "      <td><code>is</code></td>\n",
        "      <td><code>lambda</code></td>\n",
        "      <td><code>nonlocal</code></td>\n",
        "      <td><code>not</code></td>\n",
        "      <td><code>or</code></td>\n",
        "      <td><code>pass</code></td>\n",
        "      <td><code>raise</code></td>\n",
        "  </tr>    \n",
        "  <tr>\n",
        "      <td><code>return</code></td>\n",
        "      <td><code>try</code></td>\n",
        "      <td><code>while</code></td>\n",
        "      <td><code>with</code></td>\n",
        "      <td><code>yield</code></td>\n",
        "  </tr>    \n",
        "</table>"
      ]
    },
    {
      "cell_type": "markdown",
      "id": "1e94459e",
      "metadata": {
        "id": "1e94459e"
      },
      "source": [
        "<div class=\"alert alert-success\"><b>Task:</b> Attempt to create a variables with three different reserved words above. Observe what error you receive.</div>"
      ]
    },
    {
      "cell_type": "code",
      "execution_count": null,
      "id": "4989b5e3",
      "metadata": {
        "id": "4989b5e3"
      },
      "outputs": [],
      "source": [
        "# Try to create variables here\n"
      ]
    },
    {
      "cell_type": "markdown",
      "id": "2d72b905",
      "metadata": {
        "id": "2d72b905"
      },
      "source": [
        "<div class=\"alert alert-info\"><b>Task</b>: Instead of simply giving you the other rules for creating variables, use trial and error figure out what works and what doesn't. Are variables case-sensitive? Do numbers and symbols (e.g., %, ^, -) work, and if so, where? Create a code block below to explore. Derive <b>three</b> rules in a markdown block below.</div>"
      ]
    },
    {
      "cell_type": "markdown",
      "id": "ef32adb0",
      "metadata": {
        "id": "ef32adb0"
      },
      "source": [
        "**Note**: There are hard and fast rules about variable names you *definitely* can't use, and then there are conventions. As you may have noticed, we'll primarily be naming variables with lowercase words separated by an underscore. This is the most readable, and is what is recommend by the official Python style guide."
      ]
    },
    {
      "cell_type": "markdown",
      "id": "127c2a47",
      "metadata": {
        "id": "127c2a47"
      },
      "source": [
        "## Part III. Working with Strings\n",
        "Strings are strings of letters (or numbers or spaces) surrounded by matching beginning & ending quotation marks. A few useful notes:\n",
        "\n",
        "* Quotation marks can be single (`'`) or double (`\"`); use single within double (we'll stick to single, most of the time)\n",
        "    * One single quotation mark within a pair of double quotation marks will be interpreted as an apostrophe (a single quotation mark).\n",
        "* Use `\\` to keep single or double quotation mark, instead of reading it as a string (e.g., for a quote or an apostrophe)\n",
        "\n",
        "Let's see how this works with some familiar looking strings -- DNA! Below, we'll assign a string of nucleotides to the variable `my_dna`."
      ]
    },
    {
      "cell_type": "code",
      "execution_count": null,
      "id": "d608f9e4",
      "metadata": {
        "id": "d608f9e4"
      },
      "outputs": [],
      "source": [
        "my_dna = 'AATGCCGTGCTT'"
      ]
    },
    {
      "cell_type": "markdown",
      "id": "5f17ed06",
      "metadata": {
        "id": "5f17ed06"
      },
      "source": [
        "#### Indexing and slicing strings\n",
        "We can **index** or **slice** strings using bracket notation. For example, if you want to take the first codon from this list, you could do the following:"
      ]
    },
    {
      "cell_type": "code",
      "execution_count": null,
      "id": "d3fe7265",
      "metadata": {
        "id": "d3fe7265",
        "colab": {
          "base_uri": "https://localhost:8080/"
        },
        "outputId": "bd6edca0-9a55-4b0e-faa5-21b51b4e455e"
      },
      "outputs": [
        {
          "output_type": "stream",
          "name": "stdout",
          "text": [
            "AAT\n"
          ]
        }
      ],
      "source": [
        "# Slice the first codon\n",
        "first_codon = my_dna[0:3]\n",
        "\n",
        "print(first_codon)"
      ]
    },
    {
      "cell_type": "markdown",
      "id": "6c9f8a03",
      "metadata": {
        "id": "6c9f8a03"
      },
      "source": [
        "Notice the notation here -- we're starting at index 0, and going *until* but not including index 3. We can also use negative indices to index and slice. The image below gives you a visual depiction of the index for each character.\n",
        "\n",
        "> Use the cell above to test different indices and slices.\n",
        "\n",
        "![](http://www.nltk.org/images/string-slicing.png)"
      ]
    },
    {
      "cell_type": "markdown",
      "source": [
        "<div class=\"alert alert-success\"><b>Task:</b> Slice the last codon in two different ways, print both to make sure they give the expected answers.</div>"
      ],
      "metadata": {
        "id": "17OJ9JKQRQFJ"
      },
      "id": "17OJ9JKQRQFJ"
    },
    {
      "cell_type": "code",
      "source": [
        "# Method 1\n",
        "last_codon ="
      ],
      "metadata": {
        "id": "P8MDtlSLRPt2"
      },
      "id": "P8MDtlSLRPt2",
      "execution_count": null,
      "outputs": []
    },
    {
      "cell_type": "code",
      "source": [
        "# Method 2\n",
        "last_codon ="
      ],
      "metadata": {
        "id": "fww_5zYFsDfq"
      },
      "id": "fww_5zYFsDfq",
      "execution_count": null,
      "outputs": []
    },
    {
      "cell_type": "markdown",
      "id": "8d922fd3",
      "metadata": {
        "id": "8d922fd3"
      },
      "source": [
        "#### Concatenating strings\n",
        "\n",
        "You can concatenate strings (either as variables or by them selves) with `+`.\n",
        "\n",
        "<div class=\"alert alert-info\"><b>Task</b>: There is a species of jellyfish called 'Bazinga rieki' and a species of orchid bee called 'Euglossa bazinga'. How can we use slicing and concetenation to remix these names to get a species called 'Bazinga bazinga'?"
      ]
    },
    {
      "cell_type": "code",
      "execution_count": null,
      "id": "be554808",
      "metadata": {
        "id": "be554808"
      },
      "outputs": [],
      "source": [
        "jellyfish = 'Bazinga rieki'\n",
        "orchidbee =\n",
        "\n",
        "\n",
        "\n",
        "new_species ="
      ]
    },
    {
      "cell_type": "markdown",
      "id": "f5d8d630",
      "metadata": {
        "id": "f5d8d630"
      },
      "source": [
        "Remember: we can use the `print` function to show more than one variable, as well as variables of different types. You can separate items within `print` by commas to print multiple variables, e.g. `print(a,b,\"name\")`.\n",
        "\n",
        "<div class=\"alert alert-success\"><b>Task:</b> Write an expression that adds your <code>orchidbee</code> variable to an integer (for example, 3).</div>"
      ]
    },
    {
      "cell_type": "code",
      "execution_count": null,
      "id": "6dc0d7a6",
      "metadata": {
        "id": "6dc0d7a6"
      },
      "outputs": [],
      "source": []
    },
    {
      "cell_type": "markdown",
      "id": "8c80382c",
      "metadata": {
        "id": "8c80382c"
      },
      "source": [
        "**Hint**: While completing the above, you might receive an error that says \"TypeError: can only concatenate str (not \"int\") to str\". Why would you get this error, and how can you correct it?"
      ]
    },
    {
      "cell_type": "markdown",
      "id": "650e3874",
      "metadata": {
        "id": "650e3874"
      },
      "source": [
        "Jupyter also has\n",
        "<a href=\"https://en.wikipedia.org/wiki/Command-line_completion\" class=\"alert-link\"><b>tab complete</b></a>\n",
        "capacities, which can autocomplete what you are typing, and/or be used to explore what code is available. This is useful, for example, if you have a long string variable.\n",
        "\n",
        "\n",
        "<div class=\"alert alert-success\"><b>Task: </b>Use autocomplete to write the name of one of your variables above.</div>"
      ]
    },
    {
      "cell_type": "code",
      "execution_count": null,
      "id": "f9fac3fd",
      "metadata": {
        "id": "f9fac3fd"
      },
      "outputs": [],
      "source": [
        "# Move your cursor to the end of the line, press tab, and a drop menu will appear showing all possible completions\n",
        "# If there is only one option, tab-complete will auto-complete what you are typing\n",
        "\n"
      ]
    },
    {
      "cell_type": "markdown",
      "id": "cc6d59f4",
      "metadata": {
        "id": "cc6d59f4"
      },
      "source": [
        "As we're working through this notebook, the kernel also stores your **namespace** - all the variables and code that you have declared (executed). You can check which variables and functions are available with the command `%who`, or `%whos` (for more detailed information).\n",
        "\n",
        "<div class=\"alert alert-success\"><b>Task: </b>Use the who(s) command to check your variables below.</div>"
      ]
    },
    {
      "cell_type": "code",
      "execution_count": null,
      "id": "5c3a3b5c",
      "metadata": {
        "id": "5c3a3b5c"
      },
      "outputs": [],
      "source": []
    },
    {
      "cell_type": "markdown",
      "id": "08f87394",
      "metadata": {
        "id": "08f87394"
      },
      "source": [
        "<hr>\n",
        "\n",
        "## About this notebook\n",
        "\n",
        "* This notebook is largely derived from UCSD COGS18 Materials, created by Tom Donoghue & Shannon Ellis, as well as [CS5 Green](https://www.cs.hmc.edu/twiki/bin/view/CS5Green) at Harvey Mudd.\n",
        "\n",
        "* For more useful information, check out Jupyter Notebooks\n",
        "<a href=\"https://www.dataquest.io/blog/jupyter-notebook-tips-tricks-shortcuts/\" class=\"alert-link\">tips & tricks</a>\n",
        ", and more information on how\n",
        "<a href=\"http://jupyter.readthedocs.io/en/latest/architecture/how_jupyter_ipython_work.html\" class=\"alert-link\">notebooks work</a>."
      ]
    }
  ],
  "metadata": {
    "kernelspec": {
      "display_name": "Python 3",
      "language": "python",
      "name": "python3"
    },
    "language_info": {
      "codemirror_mode": {
        "name": "ipython",
        "version": 3
      },
      "file_extension": ".py",
      "mimetype": "text/x-python",
      "name": "python",
      "nbconvert_exporter": "python",
      "pygments_lexer": "ipython3",
      "version": "3.7.3"
    },
    "colab": {
      "provenance": []
    }
  },
  "nbformat": 4,
  "nbformat_minor": 5
}