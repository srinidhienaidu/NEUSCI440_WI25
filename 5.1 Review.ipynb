{
 "cells": [
  {
   "cell_type": "markdown",
   "metadata": {},
   "source": [
    "## Week 5 REVIEW SESH "
   ]
  },
  {
   "cell_type": "markdown",
   "metadata": {},
   "source": [
    "### Notebook 1.1 Key Takeaways"
   ]
  },
  {
   "cell_type": "markdown",
   "metadata": {},
   "source": [
    "The very first thing you need to do before running any code, is choosing a kernel. There should be a button in the top right that says \"Select Kernel\". When you click that, you should see a drop down with possible kernel choices. If you can't find it (even after clicking into \"Python Environments...\"), then make sure you open VSCode from Anaconda. For the purposes of this class, you'll pretty much always want to be using the neusci440 environment."
   ]
  },
  {
   "cell_type": "markdown",
   "metadata": {},
   "source": [
    "There are TWO (2) key cell types in jupyter notebooks: markdown and code cells. Markdown cells are essentially just text boxes and code cells are where the magic happens. As you can see here, this cell is a markdown cell."
   ]
  },
  {
   "cell_type": "code",
   "execution_count": null,
   "metadata": {},
   "outputs": [],
   "source": [
    "# and this cell is a code cell! If we wanted to run any code, we have to make sure we're writing things in code cells\n",
    "# if you want to include plain text in a code cell, you have to create a comment using hashtags (#)\n",
    "\n",
    "print('this is a code cell!')"
   ]
  },
  {
   "cell_type": "markdown",
   "metadata": {},
   "source": [
    "There are a bunch of operations that you can do in base python; practically all of the basic operations you've seen throughout your math classes can be done without importing additional libraries: addition, subtraction, division, multiplication, and exponentiation. There's also one additional one: modulo, which returns the remainder of your division. "
   ]
  },
  {
   "cell_type": "code",
   "execution_count": null,
   "metadata": {},
   "outputs": [],
   "source": [
    "# predict the outputs of each of these operations before running them!!!\n",
    "\n",
    "a = 10\n",
    "b = 2\n",
    "c = 3\n",
    "print(a+b) # output = ...\n",
    "print(a-b) # output = ...\n",
    "print(a*b) # output = ...\n",
    "print(a/b) # output = ...\n",
    "print(a**b) # output = ...\n",
    "print(a%c) # output = ..."
   ]
  },
  {
   "cell_type": "markdown",
   "metadata": {},
   "source": [
    "### Notebook 1.2 Key Takeaways"
   ]
  },
  {
   "cell_type": "markdown",
   "metadata": {},
   "source": [
    "Reminder, you have to be careful when using calling functions and variables; you must refer to them with the exact capitalization, underscoring, other formatting, etc. in order for Python to know what you're trying to do. "
   ]
  },
  {
   "cell_type": "code",
   "execution_count": null,
   "metadata": {},
   "outputs": [],
   "source": [
    "# out of the two print statements below, which one will work and which won't? Why?\n",
    "Print(\"print this\") \n",
    "print(\"print this\") \n",
    "\n",
    "my_variable = 'hello'\n",
    "# if I want to print my_variable, which of the two below should I use?\n",
    "print(My_Variable) \n",
    "print(my_variable)"
   ]
  },
  {
   "cell_type": "markdown",
   "metadata": {},
   "source": [
    "There are many different types of variables in Python, each with their own properties and rules. Some of the most common you'll see are: ints (any integer number), floats (numbers with decimals), strings (any kind of text), and booleans (True or False). Different functions will require different variable types, and a good way to find out what variable types you need for any given function is by searching things up. "
   ]
  },
  {
   "cell_type": "markdown",
   "metadata": {},
   "source": [
    "When it comes to naming variables, there are also a few other rules: 1) you can't start them with a number, 2) you can't use special characters (aside from underscores), 3) there are certain names that can't be used because they're reserved for other things. \n",
    "\n",
    "<table type=\"text/css\">\n",
    "  <tr>\n",
    "      <td><code>False</code></td>\n",
    "      <td><code>None</code></td>\n",
    "      <td><code>True</code></td>\n",
    "      <td><code>and</code></td>\n",
    "      <td><code>as</code></td>\n",
    "      <td><code>assert</code></td>\n",
    "      <td><code>break</code></td>\n",
    "  </tr>\n",
    "  <tr>\n",
    "      <td><code>class</code></td>\n",
    "      <td><code>continue</code></td>\n",
    "      <td><code>def</code></td>\n",
    "      <td><code>del</code></td>\n",
    "      <td><code>elif</code></td>\n",
    "      <td><code>else</code></td>\n",
    "      <td><code>except</code></td>\n",
    "  </tr>\n",
    "  <tr>\n",
    "      <td><code>finally</code></td>\n",
    "      <td><code>for</code></td>\n",
    "      <td><code>from</code></td>\n",
    "      <td><code>global</code></td>\n",
    "      <td><code>if</code></td>\n",
    "      <td><code>import</code></td>\n",
    "      <td><code>in</code></td>\n",
    "  </tr>\n",
    "  <tr>\n",
    "      <td><code>is</code></td>\n",
    "      <td><code>lambda</code></td>\n",
    "      <td><code>nonlocal</code></td>\n",
    "      <td><code>not</code></td>\n",
    "      <td><code>or</code></td>\n",
    "      <td><code>pass</code></td>\n",
    "      <td><code>raise</code></td>\n",
    "  </tr>    \n",
    "  <tr>\n",
    "      <td><code>return</code></td>\n",
    "      <td><code>try</code></td>\n",
    "      <td><code>while</code></td>\n",
    "      <td><code>with</code></td>\n",
    "      <td><code>yield</code></td>\n",
    "  </tr>    \n",
    "</table>"
   ]
  },
  {
   "cell_type": "markdown",
   "metadata": {},
   "source": [
    "When working with strings, there are a few useful techniques: indexing, slicing, and concatenating. SUPER IMPORTANT NOTE: Python uses zero-based indexing!!! This means that the first element of any iterable/list-like onject is referred to as index 0, not index 1. "
   ]
  },
  {
   "cell_type": "markdown",
   "metadata": {},
   "source": [
    "<span style=\"font-size: 20px;\">*In this notebook `...` indicates that you must fill that space with your own code*</span>"
   ]
  },
  {
   "cell_type": "code",
   "execution_count": null,
   "metadata": {},
   "outputs": [],
   "source": [
    "my_string = 'super useful string'\n",
    "\n",
    "# print out the first, then the second, characters in the string.\n",
    "...\n",
    "\n",
    "# use string slicing to divvy up my_string into its component words\n",
    "first_word = ...\n",
    "second_word = ...\n",
    "third_word = ...\n",
    "\n",
    "print(first_word)\n",
    "print(second_word)\n",
    "print(third_word)\n",
    "\n",
    "# now, add the words back together into a string that's identical to my_string\n",
    "concat_string = ...\n",
    "if concat_string == my_string:\n",
    "    print('Good work! :D')\n",
    "else:\n",
    "    print('close, but try again')"
   ]
  },
  {
   "cell_type": "markdown",
   "metadata": {},
   "source": [
    "### Notebook 2.1 Key Takeaways"
   ]
  },
  {
   "cell_type": "markdown",
   "metadata": {},
   "source": [
    "In addition to variable types, another sort of object we can work with are various data structures. These include lists, tuples, and dictionaries. "
   ]
  },
  {
   "cell_type": "markdown",
   "metadata": {},
   "source": [
    "Lists can be changed by either adding/removing entries or by changing individual elements. They can also be comprised of a variety of variable types. "
   ]
  },
  {
   "cell_type": "code",
   "execution_count": null,
   "metadata": {},
   "outputs": [],
   "source": [
    "# we create lists using square brackets: []\n",
    "my_list = ['dog', 'raccoon', 'lion', 'parrot']\n",
    "\n",
    "# please add the element 'rat' to the end of my_list\n",
    "...\n",
    "\n",
    "print(my_list) # these print statements are just here to check if you did things correctly\n",
    "\n",
    "# now, remove the element 'rat' using .remove()\n",
    "...\n",
    "\n",
    "print(my_list)\n",
    "\n",
    "# resetting the list to have rat after using .remove()\n",
    "my_list = ['dog', 'raccoon', 'lion', 'parrot', 'rat']\n",
    "\n",
    "# use del here to remove rat again\n",
    "...\n",
    "\n",
    "print(my_list)"
   ]
  },
  {
   "cell_type": "markdown",
   "metadata": {},
   "source": [
    "Remember slicing, indexing, and concatenating strings? We can also do all those things with lists as well."
   ]
  },
  {
   "cell_type": "markdown",
   "metadata": {},
   "source": [
    "To slice, we generally provide a start index and a stop index. The start index is inclusive, meaning that the slice will start at that index. On the other hand the stop index is exclusive, meaning the slice will end at the index right before the stop. If we don't provide a start index, we treat the beginning as the start (index of 0), and if we don't provide an end index, we include all the elements up to, and including, the end."
   ]
  },
  {
   "cell_type": "code",
   "execution_count": null,
   "metadata": {},
   "outputs": [],
   "source": [
    "my_list2 = ['this', 'is', 'a', 'new', 'list']\n",
    "\n",
    "# print the last three elements of my_list2 using indexing\n",
    "print(my_list2[...])\n",
    "\n",
    "# print the first three elements of my_list2, without using a start index (so no number before the colon)\n",
    "print(my_list2[...])\n",
    "\n",
    "#print the last two elements of my_list2, without using a stop index (so no number after the colon)\n",
    "print(my_list2[...])"
   ]
  },
  {
   "cell_type": "markdown",
   "metadata": {},
   "source": [
    "To check the length of a list, we can use len(). To see if something is in the list, we can use in. "
   ]
  },
  {
   "cell_type": "code",
   "execution_count": null,
   "metadata": {},
   "outputs": [],
   "source": [
    "my_list2 = ['this', 'is', 'a', 'new', 'list']\n",
    "\n",
    "# predict what the output of these lines are before running\n",
    "length_of_my_list2 = len(my_list2) \n",
    "print(length_of_my_list2) # output = ...\n",
    "\n",
    "is_this_in_my_list2 = 'this' in my_list2\n",
    "print(is_this_in_my_list2) # output = ..."
   ]
  },
  {
   "cell_type": "markdown",
   "metadata": {},
   "source": [
    "We can also create lists of lists, which require a little bit more care in terms of indexing. We generally use two sets of brackets, the first to index through the larger, encompassing list, and the second to index through the specific list you're interested in. "
   ]
  },
  {
   "cell_type": "code",
   "execution_count": null,
   "metadata": {},
   "outputs": [],
   "source": [
    "list_of_lists = [['list 1', 'has', 'only', 'strings'],\n",
    "                 [2, 3, 4, 5, 6],\n",
    "                 [True, False, True, True]]\n",
    "\n",
    "# please print the first element of the first list using indexing\n",
    "print(list_of_lists[...])\n",
    "\n",
    "# please print all of the second list nested inside of list_of_lists using indexing\n",
    "print(list_of_lists[...])"
   ]
  },
  {
   "cell_type": "markdown",
   "metadata": {},
   "source": [
    "Tuples are another data structure that contain a pair of two things. These don't have to be the same type, but once you create a tuple, you can't modify it. To reference elements within the tuple, we use indexing. "
   ]
  },
  {
   "cell_type": "code",
   "execution_count": null,
   "metadata": {},
   "outputs": [],
   "source": [
    "my_tuple = ('test tuple', 5)\n",
    "\n",
    "# print the first element of my_tuple\n",
    "print(my_tuple[...])\n",
    "\n",
    "# predict what will happen if we try to change the first element of my_tuple\n",
    "my_tuple[0] = 5 # output = ..."
   ]
  },
  {
   "cell_type": "markdown",
   "metadata": {},
   "source": [
    "range() is a super important tool that allows you to iterate through things in a very controlled manner. You can choose where to start, where to stop, and how many elements to step over each time. "
   ]
  },
  {
   "cell_type": "code",
   "execution_count": null,
   "metadata": {},
   "outputs": [],
   "source": [
    "# this demonstrates how range works, it iterates through and generates numbers as you set it to\n",
    "# predict what the output of this code is before running it\n",
    "\n",
    "for element in range(0, 20, 4): # start at 0, stop at 20, use steps of 4\n",
    "    print(element)"
   ]
  },
  {
   "cell_type": "markdown",
   "metadata": {},
   "source": [
    "Dictionaries are another data structure. You can kind of think of them as two separate lists: one of keys and one of values. Each key is associated with a value, and that's the only way you can obtain a value. You assign a value to a key using key : value when inside the frame of a dictionary. You can also add to a dictionary after its initial creation."
   ]
  },
  {
   "cell_type": "code",
   "execution_count": null,
   "metadata": {},
   "outputs": [],
   "source": [
    "my_dictionary = {\n",
    "    'Preston' : 'the cool PF',\n",
    "    'Pascha' : 'the other cool PF',\n",
    "    'Srinidhi' : 'Srinidhi', \n",
    "\n",
    "}\n",
    "\n",
    "# please add the key-vaue pair of 'Mason' = 'also a cool PF'\n",
    "my_dictionary[...] = ...\n",
    "\n",
    "# obtain the value 'the cool PF' using the corresponding key\n",
    "print(my_dictionary[...])\n",
    "\n",
    "# you can also get a list of all the keys\n",
    "print(my_dictionary.keys())\n",
    "\n",
    "# and the values\n",
    "print(my_dictionary.values())"
   ]
  },
  {
   "cell_type": "markdown",
   "metadata": {},
   "source": [
    "### Notebook 2.2 Key Takeaways"
   ]
  },
  {
   "cell_type": "markdown",
   "metadata": {},
   "source": [
    "Functions are quite literally one of the most important concepts in all of coding. Whenever you want to do a certain set of things multiple times in a single bit of code, you should create a function that you can call, instead of copying and pasting the working code each time you need it.\n",
    "\n",
    "There are few key things you need to create a function: a function name, parameters for the function, and (usually) a return statement. The function name is what you use to refer to the function, the parameters are the variables your function needs in order to work properly, and the return statement is what your function spits back out. The return statement is not always a necessity; some functions (like .append()) don't give anything back, but simply modify the list that you're appending to. "
   ]
  },
  {
   "cell_type": "markdown",
   "metadata": {},
   "source": [
    "The syntax to create a function is as follows:\n",
    "\n",
    "```\n",
    "    def function_name(parameter1, parameter2, etc.): <- this colon is super important to include, if you forget it, Python will yell at you.\n",
    "        body\n",
    "        of\n",
    "        function\n",
    "        (where the magic happens)\n",
    "        return something\n",
    "```"
   ]
  },
  {
   "cell_type": "code",
   "execution_count": null,
   "metadata": {},
   "outputs": [],
   "source": [
    "# example function\n",
    "def my_function(int1, int2):\n",
    "    return int1*int2"
   ]
  },
  {
   "cell_type": "markdown",
   "metadata": {},
   "source": [
    "Functions can also have default values, so that you don't always need to give the function every single one of the parameters in order to function properly."
   ]
  },
  {
   "cell_type": "code",
   "execution_count": null,
   "metadata": {},
   "outputs": [],
   "source": [
    "# include default values for int1 and int2\n",
    "def my_function2(int1 = ..., int2 = ...):\n",
    "    return int1*int2\n",
    "\n",
    "print(my_function2())"
   ]
  },
  {
   "cell_type": "markdown",
   "metadata": {},
   "source": [
    "Booleans are a variable type that just store True or False. Whenever you compare two objects, they are what gets output, and they are what is used when determining whether to enter an if/elif statement (more on that in just a bit). There are many ways to compare things: == is used to compare equality and </> are used for less/greater than. To consider if things are not equal, we use !=, and for greater and equal/lesser and equal, we simply add an equal sign: <= or =>."
   ]
  },
  {
   "cell_type": "code",
   "execution_count": null,
   "metadata": {},
   "outputs": [],
   "source": [
    "float1 = 0.5\n",
    "float2 = 1.34\n",
    "float3 = 0.5\n",
    "\n",
    "\n",
    "# predict the True/False outputs of the operators below BEFORE running\n",
    "print(float1==float2) # output = ...\n",
    "print(float1==float3) # output = ...\n",
    "print(float1!=float2) # output = ...\n",
    "print(float1!=float3) # output = ...\n",
    "print(float1 < float2) # output = ...\n",
    "print(float2 > float3) # output = ..."
   ]
  },
  {
   "cell_type": "markdown",
   "metadata": {},
   "source": [
    "There are also ways to combine comparisons together, namely add, or, and not. For and, it's required that all statements must be true. For or, it's only required that one of the statements must be true. Not just means that the statement is evaluated as True only if the statement is false."
   ]
  },
  {
   "cell_type": "code",
   "execution_count": null,
   "metadata": {},
   "outputs": [],
   "source": [
    "# predict these outputs before running as well!\n",
    "print((float1 == float2) and (float1 == float3)) # output = ...\n",
    "print((float1 <= float2) and (float1 == float3)) # output = ...\n",
    "print((float1 == float2) or (float1 == float3)) # output = ...\n",
    "print(not (float1 > float2)) # output = ..."
   ]
  },
  {
   "cell_type": "markdown",
   "metadata": {},
   "source": [
    "Conditionals are used to help your code respond differently to different inputs/conditions. If/elif/else statements allow for certain things to be evaluated only when a condition is satisfied."
   ]
  },
  {
   "cell_type": "code",
   "execution_count": null,
   "metadata": {},
   "outputs": [],
   "source": [
    "test_list = ['this', 'list', 'has', 7, 'words', 'in', 'it']\n",
    "\n",
    "# write a conditional in the parentheses that prints out the first string if the length of test_list is 7\n",
    "\n",
    "if (...):\n",
    "    print('there are 7 elements in this list')\n",
    "else:\n",
    "    print('there are not 7 elements')"
   ]
  },
  {
   "cell_type": "markdown",
   "metadata": {},
   "source": [
    "### Notebook 3.1 Key Takeaways"
   ]
  },
  {
   "cell_type": "markdown",
   "metadata": {},
   "source": [
    "FOR LOOPS!!!! These are tremendously important!!! Similarly to functions, if there's something you want to do multiple times to different things, you can use for loops to accomplish this. This could be checking all elements of a list for a certain quality, performing some operation an all numbers in a list, etc. They are hugely versatile, and becoming as comfortable as possible with these is going to be super beneficial for your future journey in coding."
   ]
  },
  {
   "cell_type": "markdown",
   "metadata": {},
   "source": [
    "The syntax for starting the for loop is:\n",
    "```\n",
    "for element in iterable_object: \n",
    "    perform some operation\n",
    "    maybe something else?\n",
    "    even another thing :O\n",
    "```\n",
    "Iterable just means you can go through the object one element at a time. For example, this structure is super useful if you want to do something with the elements of a list."
   ]
  },
  {
   "cell_type": "code",
   "execution_count": null,
   "metadata": {},
   "outputs": [],
   "source": [
    "for_loop_list = [5, 10, 15, 20, 25, 30]\n",
    "\n",
    "# write a for loop that prints out whether each element in for_loop_list is greater than 15\n",
    "..."
   ]
  },
  {
   "cell_type": "markdown",
   "metadata": {},
   "source": [
    "However, there will also be times that you simply want to do something at certain intervals; here's where range() comes back into play. You may recall printing range() not giving you what you might've expected. That's because it generates a special, iterable object. This makes it perfect for usage with for loops."
   ]
  },
  {
   "cell_type": "code",
   "execution_count": null,
   "metadata": {},
   "outputs": [],
   "source": [
    "print(range(0, 20, 4))\n",
    "\n",
    "# create a for loop that uses range, and prints out numbers from 0 to 20, but only those in steps of 4\n",
    "for element in ...:\n",
    "    print(element)"
   ]
  },
  {
   "cell_type": "markdown",
   "metadata": {},
   "source": [
    "Another super concept that you'll want to familiarize yourself with is counting. Say, if you were interested in seeing how many elements in your list satisfied a certain condition; you could use a for loop to iterate through, then an if statement to see if things are satisfied."
   ]
  },
  {
   "cell_type": "code",
   "execution_count": null,
   "metadata": {},
   "outputs": [],
   "source": [
    "for_loop_list = [5, 10, 15, 20, 25, 30]\n",
    "\n",
    "# create a for loop that updates the variable 'counter' every tiime the element in for_loop_list is greater than 15\n",
    "\n",
    "counter = ...\n",
    "\n",
    "...\n",
    "\n",
    "print (counter)"
   ]
  },
  {
   "cell_type": "markdown",
   "metadata": {},
   "source": [
    "Another super useful tool is enumerate(). Using this in conjunction with an iterable object not only gives you the element at each index, but also the corresponding index for said element."
   ]
  },
  {
   "cell_type": "code",
   "execution_count": null,
   "metadata": {},
   "outputs": [],
   "source": [
    "new_for_loop_list = []\n",
    "\n",
    "# guess what new_for_loop_list will print out as after running the code below\n",
    "for index, element in enumerate(for_loop_list):\n",
    "    new_for_loop_list.append(element*index)\n",
    "\n",
    "print(new_for_loop_list) # output = ..."
   ]
  },
  {
   "cell_type": "markdown",
   "metadata": {},
   "source": [
    "There's another type of loop called a while loop, which essentially repeats itself as long as (while) a given condition is true."
   ]
  },
  {
   "cell_type": "code",
   "execution_count": null,
   "metadata": {},
   "outputs": [],
   "source": [
    "counter = 0\n",
    "\n",
    "# what is the last value that will get printed out?\n",
    "while (counter < 5):\n",
    "    print(counter)\n",
    "    counter = counter + 1\n",
    "# last output = ..."
   ]
  },
  {
   "cell_type": "markdown",
   "metadata": {},
   "source": [
    "Finally, there's a concept in coding called \"scoping\", and it basically refers to where/how you can refer to certain variables (essentially the scope of the variable). If you create a variable outside of a function, if/else, for loop, etc. (really anything that you have to indent for), then you can refer to it within any of your functions, if/elses, loops, etc. However, if you create a variable within a function, you will not be able to use it outside of the loop."
   ]
  },
  {
   "cell_type": "code",
   "execution_count": null,
   "metadata": {},
   "outputs": [],
   "source": [
    "x = 'variable 1'\n",
    "y = 'variable 2'\n",
    "\n",
    "# will you be able to successfully concatenate x and y?\n",
    "if x == 'variable 1':\n",
    "    print(x + ' and ' + y)"
   ]
  },
  {
   "cell_type": "code",
   "execution_count": null,
   "metadata": {},
   "outputs": [],
   "source": [
    "for_loop_list = [5, 10, 15, 20, 25, 30]\n",
    "\n",
    "def example_function(given_list):\n",
    "    element_sum = 0\n",
    "    for element in given_list:\n",
    "        element_sum = element_sum + element\n",
    "    return element_sum\n",
    "\n",
    "# will you be able to print element_sum?\n",
    "print('element_sum is: ' + str(element_sum))"
   ]
  },
  {
   "cell_type": "markdown",
   "metadata": {},
   "source": [
    "There are two other operators that can be useful in the context of loops: continue and break. If you want to have you for loop skip over certain elements when its iterating, you can use continue. If you want to exit your loop immediately after reaching a certain point, you can use break."
   ]
  },
  {
   "cell_type": "code",
   "execution_count": null,
   "metadata": {},
   "outputs": [],
   "source": [
    "for_loop_list = [5, 10, 15, 20, 25, 30]\n",
    "\n",
    "# write a for loop that adds all the elements of for_loop_list, except for the even-indexed elements\n",
    "sum_without_even_index_elements = ...\n",
    "\n",
    "...\n",
    "\n",
    "print(sum_without_even_index_elements)"
   ]
  },
  {
   "cell_type": "code",
   "execution_count": null,
   "metadata": {},
   "outputs": [],
   "source": [
    "for_loop_list = [5, 10, 15, 20, 25, 30]\n",
    "\n",
    "# write a for loop that stops the instant element_sum is greater than 50\n",
    "element_sum = ...\n",
    "\n",
    "...\n",
    "\n",
    "print(element_sum)"
   ]
  },
  {
   "cell_type": "markdown",
   "metadata": {},
   "source": [
    "If you accidentally create an infinite loop, you should look to stop your code, as it won't stop on its own. You can look to stop it with the square stop button on the left of the cell, or with the restart in the top bar, next to Run All and Clear All Outputs. You can also completely restart your VSCode, though you should try to save beforehand."
   ]
  },
  {
   "cell_type": "code",
   "execution_count": null,
   "metadata": {},
   "outputs": [],
   "source": [
    "# practice stopping this block!\n",
    "while (True):\n",
    "    print('NIGHTMARE')"
   ]
  },
  {
   "cell_type": "markdown",
   "metadata": {},
   "source": [
    "### Notebook 3.2 Key Takeaways"
   ]
  },
  {
   "cell_type": "markdown",
   "metadata": {},
   "source": [
    "There are two key things you need to know about objects, 1) they have attributes and 2) they have methods (functions that you call on an object). Honestly, you'll eventually start to memorize syntax as you use things more often, but if you are ever unsure about what methods exist, how to call them, what parameters they take in, etc., Google will be your absolute best friend. "
   ]
  },
  {
   "cell_type": "markdown",
   "metadata": {},
   "source": [
    "Something that was previously mentioned, when we were reviewing functions, was the idea of whether or not something is returned. This ties into the idea of modification \"in place\". If an object is modified in place by one of its methods, then the original object is directly changed. On the other hand, methods that don't modify in place will return something out."
   ]
  },
  {
   "cell_type": "code",
   "execution_count": null,
   "metadata": {},
   "outputs": [],
   "source": [
    "test_list2 = [1, 2, 3, 4, 5]\n",
    "\n",
    "# .remove() is an example of an in place method\n",
    "print(test_list2.remove(1)) # since nothing is returned, if you try to print it, output = ...\n",
    "print(test_list2) # if you print the original list post-modification, output = ..."
   ]
  },
  {
   "cell_type": "markdown",
   "metadata": {},
   "source": [
    "Another concept is aliasing, which is important to keep track of. By creating a new variable and setting it to an old variable, you aren't necessarily creating a new object, but creating a new name to refer to the old object. So, if you were to change the new object, the old one would be changed as well. In contrast, something like .copy() creates a new object."
   ]
  },
  {
   "cell_type": "code",
   "execution_count": null,
   "metadata": {},
   "outputs": [],
   "source": [
    "test_list2 = [1, 2, 3, 4, 5]\n",
    "\n",
    "# this is an example of aliasing, you're simply creating a new name for test_list2\n",
    "new_test_list2 = test_list2\n",
    "new_test_list2.append(6)\n",
    "\n",
    "# will test_list2 be changed?\n",
    "print(test_list2)\n",
    "print(new_test_list2)"
   ]
  },
  {
   "cell_type": "code",
   "execution_count": null,
   "metadata": {},
   "outputs": [],
   "source": [
    "test_list2 = [1, 2, 3, 4, 5]\n",
    "\n",
    "# .copy() returns a new list object, so it's an example of a non in place method\n",
    "new_test_list2 = test_list2.copy()\n",
    "new_test_list2.append(6)\n",
    "\n",
    "# will test_list2 be changed?\n",
    "print(test_list2)\n",
    "print(new_test_list2)"
   ]
  },
  {
   "cell_type": "markdown",
   "metadata": {},
   "source": [
    "Another concept in the world of object-oriented programming is a Class. Classes are essentially what define different data types. It establishes what attributes comprise this type of data, as well as what methods can be called. In general, most things you work with are going to involve classes that have already been written for you, but if you want to create your own class, there are a few syntactic rules you must follow.\\\n",
    "\n",
    "You want to start with choosing a name for your class:\n",
    "```\n",
    "class Class_Name():\n",
    "    attribute_name1 = ...\n",
    "    attribute_name2 = ...\n",
    "    # and so on\n",
    "\n",
    "    # next come the Class methods\n",
    "    def method_name(self, other_parameter1, etc.): \n",
    "    # note, the first parameter you must pass is always self\n",
    "    # this refers to the object, and additional parameters should follow it\n",
    "        whatever\n",
    "        you \n",
    "        want\n",
    "        to\n",
    "        do\n",
    "    \n",
    "```"
   ]
  },
  {
   "cell_type": "code",
   "execution_count": null,
   "metadata": {},
   "outputs": [],
   "source": [
    "# Define a class with `class`. \n",
    "class Dog():\n",
    "    \n",
    "    # Class attributes for all Dogs\n",
    "    sound = 'Woof'\n",
    "\n",
    "    # Class methods for objects of type Dog\n",
    "    # Self is a special parameter that refers to the object\n",
    "    def speak(self):\n",
    "        print(self.sound)"
   ]
  },
  {
   "cell_type": "code",
   "execution_count": null,
   "metadata": {},
   "outputs": [],
   "source": [
    "# create a Dog object called 'ol_yeller'\n",
    "...\n",
    "\n",
    "# an important thing to note is that you can change the attributes of an object\n",
    "# try changing ol_yeller's sound attribute to 'bark' instead of 'Woof'\n",
    "...\n",
    "\n",
    "ol_yeller.speak()"
   ]
  },
  {
   "cell_type": "markdown",
   "metadata": {},
   "source": [
    "You can also give your class additional information when initializing it (which may be useful if you need those additional attributes for certain methods later on). To do so, you need to create a function called __init__()."
   ]
  },
  {
   "cell_type": "code",
   "execution_count": null,
   "metadata": {},
   "outputs": [],
   "source": [
    "# Define a class with `class`. \n",
    "class Dog():\n",
    "    \n",
    "    # Class attributes for all Dogs\n",
    "    sound = 'Woof'\n",
    "\n",
    "    def __init__(self, name, hair_length, sound):\n",
    "        self.name = name\n",
    "        self.hair_length = hair_length\n",
    "        self.sound = sound\n",
    "\n",
    "    # Class methods for objects of type Dog\n",
    "    # Self is a special parameter that refers to the object\n",
    "    def speak(self):\n",
    "        print(self.sound)"
   ]
  },
  {
   "cell_type": "code",
   "execution_count": null,
   "metadata": {},
   "outputs": [],
   "source": [
    "# we're creating a dog object here with a name of 'Air Bud' and a hair_length of 'medium'\n",
    "dog2 = Dog('Air Bud', 'medium')\n",
    "\n",
    "print (dog2.name)"
   ]
  },
  {
   "cell_type": "markdown",
   "metadata": {},
   "source": [
    "One last super important concept when it comes to classes is inheritance. If you have an overarching class that you then want to split into smaller, more specific classes (for example, a class of Dog, and then smaller classes of Chihuahua, Corgi, etc.), you will probably want to use inheritance. That way, each of the smaller classes will have all the classes and attributes of the larger class, while also being able to have their own specific classes/attributes that won't be accessible by the other smaller classes. "
   ]
  },
  {
   "cell_type": "code",
   "execution_count": null,
   "metadata": {},
   "outputs": [],
   "source": [
    "class Corgi(Dog):\n",
    "    \n",
    "    # Class attributes for all Dogs\n",
    "\n",
    "    def __init__(self, name, hair_length = 'short', sound = 'wimpy woof'):\n",
    "        super().__init__(name, hair_length, sound)\n",
    "\n",
    "    # Class methods for objects of type Dog\n",
    "    # Self is a special parameter that refers to the object\n",
    "    def speak(self):\n",
    "        print(self.sound)\n",
    "\n",
    "# based off the Corgi class above, create a StBernard class\n",
    "# when initialized, it should have 'long' as its hair_length\n",
    "# and 'big bark' as its sound\n",
    "class StBernard(Dog):\n",
    "    \n",
    "    # Class attributes for all Dogs\n",
    "    sound = 'Woof'\n",
    "\n",
    "    def __init__(...):\n",
    "        ...\n",
    "\n",
    "    # Class methods for objects of type Dog\n",
    "    # Self is a special parameter that refers to the object\n",
    "    def speak(self):\n",
    "        print(self.sound)"
   ]
  },
  {
   "cell_type": "code",
   "execution_count": null,
   "metadata": {},
   "outputs": [],
   "source": [
    "# create a Corgi object with a name of 'Corbin'\n",
    "new_corgi = ...\n",
    "\n",
    "# create a StBernard object with a name of 'Barry'\n",
    "new_stbernard = ... \n",
    "\n",
    "# explore the attributes and methods of Corgi objects and StBernard objects\n",
    "new_corgi.speak()\n",
    "print(new_corgi.hair_length)\n",
    "print(new_corgi.name)\n",
    "\n",
    "new_stbernard.speak()\n",
    "print(new_stbernard.hair_length)\n",
    "print(new_stbernard.name)"
   ]
  },
  {
   "cell_type": "markdown",
   "metadata": {},
   "source": [
    "Finally, an important library that we'll be using is neuscitk. This has all kinds of methods and tools that we can use to perform data analysis on real neural data that you'll collect in labs. "
   ]
  },
  {
   "cell_type": "markdown",
   "metadata": {},
   "source": [
    "First, we need to import the library. Then, we need to import our dataset using neuscitk. As a general rule of thumb/something that makes things easier, if you have your data file and your code in the same folder, Python will be able to find your data file. Otherwise, you'll have to do some gross pathing (which is possible, just not as straightforward as using the file name)."
   ]
  },
  {
   "cell_type": "code",
   "execution_count": null,
   "metadata": {},
   "outputs": [],
   "source": [
    "import neuscitk as ntk\n",
    "\n",
    "dataset = ntk.LabChartDataset('neusci302_demo.mat')"
   ]
  },
  {
   "cell_type": "markdown",
   "metadata": {},
   "source": [
    "There are a few key attributes and method that you will probably find most useful in neuscitk:\\\n",
    "1) .fs -> this gives the sampling rate of your data (what you set in LabChart) \\\n",
    "2) .get_block() -> when looking at LabChart in Scope View, you can see a bunch of different trials/pages; each of these is a block. You can get individiual blocks by using the .get_block() method and putting the index of your desired block in the parentheses (note: the indexing is also zero-based). If your data has multiple channels of data, .get_block() will give you a nested array, with each channel's data being one of the arrays in the larger nested one. \n",
    "3) .concat_blocks([list_of_blocks]) -> this stitches the blocks together, one after the other"
   ]
  },
  {
   "cell_type": "code",
   "execution_count": null,
   "metadata": {},
   "outputs": [],
   "source": [
    "sampling_rate = dataset.fs\n",
    "\n",
    "block1 = dataset.get_block(0)\n",
    "\n",
    "block2_channel1 = dataset.get_block(1)[0]\n",
    "\n",
    "blocks123 = dataset.concat_blocks([1,2,3])"
   ]
  },
  {
   "cell_type": "markdown",
   "metadata": {},
   "source": [
    "### Notebook 4.1 Key Takeaways"
   ]
  },
  {
   "cell_type": "markdown",
   "metadata": {},
   "source": [
    "NumPy is a goated library. It's incredibly useful to work with matrices, which you can esentially think of as nested lists/arrays. Additionally, NumPy introduces the data type of NumPy arrays, which have specialized methods that make working with them very convenient. "
   ]
  },
  {
   "cell_type": "markdown",
   "metadata": {},
   "source": [
    "Before we mess around with it, we first need to import the NumPy library."
   ]
  },
  {
   "cell_type": "code",
   "execution_count": null,
   "metadata": {},
   "outputs": [],
   "source": [
    "import numpy as np\n",
    "import matplotlib.pyplot as plt # this is a library used for data visualization"
   ]
  },
  {
   "cell_type": "markdown",
   "metadata": {},
   "source": [
    "An easy way to create numpy arrays is by using the np.array() function and including your precreated list in the parentheses. However, there are some restrictions on NumPy arrays: when you nest them, they must all be the same length."
   ]
  },
  {
   "cell_type": "code",
   "execution_count": null,
   "metadata": {},
   "outputs": [],
   "source": [
    "list1 = [1, 2, 3, 4, 5]\n",
    "list2 = ['super', 'cool', 'list', 'for', 'testing']\n",
    "list3 = [1, 2, 3]\n",
    "\n",
    "nparray1 = np.array(list1)\n",
    "nparray1 = np.array(list2)\n",
    "\n",
    "# will the code below work?\n",
    "nparray3 = np.array([list1, list3])"
   ]
  },
  {
   "cell_type": "markdown",
   "metadata": {},
   "source": [
    "However, the benefits far outweigh the restrictions. You can perform operations on entire numpy arrays, call all kinds of methods, and perform matrix operations (if you don't know what this is, it's all good.)"
   ]
  },
  {
   "cell_type": "code",
   "execution_count": null,
   "metadata": {},
   "outputs": [],
   "source": [
    "list1 = np.array([1, 2, 3, 4, 5])\n",
    "\n",
    "# multiply all elements of list1 by 2, without using a for loop, and call it list2\n",
    "list2 = ...\n",
    "print(list2)\n",
    "\n",
    "# square all elements of list1, without using a for loop, and call it list3\n",
    "list3 = ...\n",
    "print(list3)\n",
    "\n",
    "# find the mean of the elements of list1, without using a for loop\n",
    "avg_value = ...\n",
    "print(avg_value)\n",
    "\n",
    "# find the sum of the elements of list1, without using a for loop\n",
    "sum_of_array = ...\n",
    "print(sum_of_array)"
   ]
  },
  {
   "cell_type": "markdown",
   "metadata": {},
   "source": [
    "NumPy also has some very useful array generating functions:\n",
    "1) np.arange() has the same parameters as range(), but instead of generating a range object, it generates an numpy array with the elements that would have been iterated over.\n",
    "2) np.linspace is similar to arange, but instead of choosing a step size, you choose the number of points you want between your start and end (including the start and end points)\n",
    "3) There's also np.zeros(), which generates an array of the shape you assign, but with only zeros in it (this may seem useless, but initializing an array of the correct shape is more efficient than modifying an array to get to your desired shape)."
   ]
  },
  {
   "cell_type": "code",
   "execution_count": null,
   "metadata": {},
   "outputs": [],
   "source": [
    "arange_arr = np.arange(0, 20, 4)\n",
    "print(arange_arr)\n",
    "\n",
    "linspace_arr = np.linspace(0, 20, 11)\n",
    "print(linspace_arr)\n",
    "\n",
    "zeros_arr = np.zeros((5, 2)) # if trying to create a multidimensional array, you need to use a tuple\n",
    "print(zeros_arr)"
   ]
  }
 ],
 "metadata": {
  "kernelspec": {
   "display_name": "neusci440",
   "language": "python",
   "name": "python3"
  },
  "language_info": {
   "codemirror_mode": {
    "name": "ipython",
    "version": 3
   },
   "file_extension": ".py",
   "mimetype": "text/x-python",
   "name": "python",
   "nbconvert_exporter": "python",
   "pygments_lexer": "ipython3",
   "version": "3.13.1"
  }
 },
 "nbformat": 4,
 "nbformat_minor": 2
}
