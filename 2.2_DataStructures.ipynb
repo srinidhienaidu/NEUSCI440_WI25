{
  "cells": [
    {
      "cell_type": "markdown",
      "metadata": {
        "id": "GSBOPuC0XVxz"
      },
      "source": [
        "\n",
        "## At the end of this notebook, you'll be able to:\n",
        "* Compare & contrast the types of structures that Python uses to store data points\n",
        "* Recognize & create lists, tuples, and dictionaries in Python\n",
        "* Index, slice, cast, and mutate lists\n",
        "* Understand the implications of mutability and object-oriented programming\n",
        "\n",
        "<hr>"
      ]
    },
    {
      "cell_type": "markdown",
      "metadata": {
        "id": "8O44Oc72XVxx"
      },
      "source": [
        "# Data Structures\n",
        "\n",
        "In this notebook, we'll explore different types of data structures that Python can use to store information, namely **lists, tuples, and dictionaries.**"
      ]
    },
    {
      "cell_type": "markdown",
      "metadata": {
        "id": "jlrgvfRnXVxz"
      },
      "source": [
        "## Lists\n",
        "A _list_ is a mutable collection of ordered items, that can be of mixed type.\n",
        "\n",
        "**Mutable** means that individual items in the object can be changed. Lists are mutable. Tuples and strings are not -- they're **immutable**.\n",
        "\n",
        "Lists are created using square brackets `[ ]`, and individual elements are separated by commas."
      ]
    },
    {
      "cell_type": "code",
      "execution_count": 5,
      "metadata": {
        "id": "YqvnCIAWXVxz",
        "scrolled": true
      },
      "outputs": [],
      "source": [
        "# Create a list of the parts of a neuron \n"
      ]
    },
    {
      "cell_type": "markdown",
      "metadata": {
        "id": "qf_m8hSeXVx0"
      },
      "source": [
        "### Useful list methods\n",
        "- Check the length of your list by using `len(my_list)`\n",
        "- Use `my_list.append()` to add elements to a list\n",
        "- Remove elements by index using `del my_list[index]`\n",
        "- Remove elements by value by using `my_list.remove('value')`\n",
        "- Sort by using `my_list.sort()`"
      ]
    },
    {
      "cell_type": "code",
      "execution_count": 6,
      "metadata": {
        "id": "bQJ0ESRHXVx0",
        "scrolled": true
      },
      "outputs": [],
      "source": [
        "# Try different list methods here\n"
      ]
    },
    {
      "cell_type": "markdown",
      "metadata": {
        "id": "tTWKEIotXVx0"
      },
      "source": [
        "### List indexing & slicing\n",
        "**Indexing** refers to selecting an item from within a collection (e.g., lists, tuples, and strings). Indexing is done by placing the **index number** in square brackets, directly after the list variable.\n",
        "\n",
        "For example, if `my_list = [1,3,5]`, we can get the second value using `my_list[1]`. (Remember that Python starts indexing at zero!)"
      ]
    },
    {
      "cell_type": "markdown",
      "metadata": {
        "id": "nrs57NtjXVx0"
      },
      "source": [
        "### Reminders\n",
        "- Python is zero-based (The first index is '0')\n",
        "- Negative indices index backwards through a collection"
      ]
    },
    {
      "cell_type": "code",
      "execution_count": 7,
      "metadata": {
        "id": "USfR12hlXVx0",
        "scrolled": true
      },
      "outputs": [],
      "source": [
        "# Try indexing our list of neuron parts here\n"
      ]
    },
    {
      "cell_type": "markdown",
      "metadata": {
        "id": "k22_wP-0XVx0"
      },
      "source": [
        "### If we want multiple items, we can **slice** the list.\n",
        "\n",
        "There are a few ways to slice:\n",
        "\n",
        "1. We can **slice** a part of a list using the syntax `[start:stop]`, which extracts characters between index start and stop (-1).\n",
        "\n",
        "**Notes**\n",
        "- `start` is __included__ then every element __until__ `stop` is included.\n",
        "- Negative values count backwards through the list."
      ]
    },
    {
      "cell_type": "markdown",
      "metadata": {
        "id": "cY_fjdI9XVx1"
      },
      "source": [
        "2. If we omit either (or both) of start or stop from `[start:stop]`, the default is the beginning and the end of the string, respectively, e.g. `[:3]`\n",
        "3. We can also define the step size (instead of default 1) using the syntax `[start:stop:step]`"
      ]
    },
    {
      "cell_type": "markdown",
      "metadata": {
        "id": "WVUgtMdYXVx1"
      },
      "source": [
        "<div class=\"alert alert-success\"><b>Task:</b> For our list of neuron parts, create three different slices, and save them as different variables:\n",
        "    \n",
        "1. A slice of the first two parts.\n",
        "2. A slice of the middle three parts.\n",
        "3. A slice of the last part.\n",
        "    \n",
        "</div>"
      ]
    },
    {
      "cell_type": "code",
      "execution_count": 8,
      "metadata": {
        "id": "7M-qg7dTXVx1",
        "scrolled": true
      },
      "outputs": [],
      "source": [
        "# Your code here!\n"
      ]
    },
    {
      "cell_type": "markdown",
      "metadata": {
        "id": "d46KRVtMXVx1"
      },
      "source": [
        "### Checking length\n",
        "We can use the function `len( )` to check the length of lists.\n",
        "\n",
        "**Note**: We can also use this to get the number of characters in a string!"
      ]
    },
    {
      "cell_type": "code",
      "execution_count": null,
      "metadata": {
        "id": "dhDMqRAuXVx1"
      },
      "outputs": [],
      "source": []
    },
    {
      "cell_type": "markdown",
      "metadata": {
        "id": "utcxE9WGXVx1"
      },
      "source": [
        "### Checking membership\n",
        "We can use `in` to see if an item exists in a list. The `in` operator checks whether an element is present in a collection, and can be negated with `not`. _(More on operators in the next lecture)_"
      ]
    },
    {
      "cell_type": "code",
      "execution_count": null,
      "metadata": {
        "id": "jSrzgmvkXVx1",
        "scrolled": true
      },
      "outputs": [],
      "source": []
    },
    {
      "cell_type": "markdown",
      "metadata": {
        "id": "DZe3PIYiXVx1"
      },
      "source": [
        "### Mutating lists\n",
        "After definition, we can update members of our list _because lists are mutable!_ This also impacts aliases of our lists."
      ]
    },
    {
      "cell_type": "code",
      "execution_count": 9,
      "metadata": {
        "id": "fXrR0-PuXVx2",
        "scrolled": true
      },
      "outputs": [],
      "source": [
        "# Create alias of our list\n",
        "\n",
        "# Update the original list\n",
        "\n",
        "# Check both lists\n"
      ]
    },
    {
      "cell_type": "markdown",
      "metadata": {
        "id": "aVdK3-PXXVx2"
      },
      "source": [
        "### Creating lists of lists\n",
        "Sometimes, it's useful to create lists of lists. Often, if we import big datasets as lists, this is how it will be organized.\n",
        "\n",
        "![](https://swcarpentry.github.io/python-novice-inflammation/fig/indexing_lists_python.png)\n",
        "<div align=\"center\"><a href=\"https://swcarpentry.github.io/python-novice-inflammation/04-lists/index.html\">Image source</a></div>"
      ]
    },
    {
      "cell_type": "code",
      "execution_count": null,
      "metadata": {
        "id": "T9TRVkglXVx2",
        "scrolled": true
      },
      "outputs": [],
      "source": [
        "trial_1 = ['trial 1',0,1,1,1,0,0,1,1]\n",
        "trial_2 = ['trial 2',1,1,1,1,0,0,0,0]\n",
        "trial_3 = ['trial 3',1,0,1,0,1,0,1,0]\n",
        "all_trials = [trial_1, trial_2, trial_3]\n",
        "\n",
        "# We can use this syntax to get a specific value\n",
        "print(all_trials[0])"
      ]
    },
    {
      "cell_type": "markdown",
      "metadata": {},
      "source": [
        "**The lists above are actually a classic way to represent neuronal data.** In this toy example, each list represents a recording from a neuron, where each entry in the list representing a time point. all_trials represents the whole recording of many trials.\n",
        "\n",
        "Neurons either spike or they don't, so an easy way to keep track of neuron behavior is using 1's for when they spike and 0's for when they don't. \n",
        "\n",
        "Thus, during trial 1, the neuron didn't spike during timepoint one, spiked three times, then didn't spike at all for the next two points, and so forth. We will learn about this type of neural data - called spike trains - in more detail in the future. "
      ]
    },
    {
      "cell_type": "markdown",
      "metadata": {
        "id": "QXLRggK1XVx2"
      },
      "source": [
        "## Tuples\n",
        "A _tuple_ is an **immutable** collection of ordered items, that can be of mixed type.\n",
        "\n",
        "* Tuples are created using parentheses.\n",
        "* Indexing works similar to lists."
      ]
    },
    {
      "cell_type": "code",
      "execution_count": 11,
      "metadata": {
        "id": "guGXbjspXVx2",
        "scrolled": true
      },
      "outputs": [],
      "source": [
        "# Define a tuple that contains a string denoting a trial number as the first entry and a spike train as the second entry\n"
      ]
    },
    {
      "cell_type": "markdown",
      "metadata": {
        "id": "_KBAun0GXVx2"
      },
      "source": [
        "<div class=\"alert alert-success\"><b>Question</b>: Before running the cell below, try to predict: What will be printed out from running this code?</div>"
      ]
    },
    {
      "cell_type": "code",
      "execution_count": null,
      "metadata": {
        "id": "JtIy2D7CXVx2",
        "scrolled": true
      },
      "outputs": [],
      "source": [
        "lst = ['a', 'b', 'c']\n",
        "tup = ('b', 'c', 'd')\n",
        "\n",
        "if lst[-1] == tup[-1]:\n",
        "    print('EndMatch')\n",
        "elif tup[1] in lst:\n",
        "    print('Overlap')\n",
        "elif len(lst) == tup:\n",
        "    print('Length')\n",
        "else:\n",
        "    print('None')"
      ]
    },
    {
      "cell_type": "markdown",
      "metadata": {
        "id": "zIwAfrjCXVx2"
      },
      "source": [
        "### Casting between variable types\n",
        "We can use `list( )` or `tuple( )` to convert variables into different types. This is called **casting**.\n",
        "\n",
        "This is particularly useful when we use an operator like `range( )` which generates a range, but in the form of an **iterator**."
      ]
    },
    {
      "cell_type": "markdown",
      "metadata": {
        "id": "0N-Er_fCXVx2"
      },
      "source": [
        "**Note**: `range`, like indexing, is defined with `start`,`stop`, and `step`, but commas in between each. Remember that you can always use `?range` or `help(range)` to get details on how a function works."
      ]
    },
    {
      "cell_type": "code",
      "execution_count": null,
      "metadata": {},
      "outputs": [],
      "source": [
        "help(range)"
      ]
    },
    {
      "cell_type": "code",
      "execution_count": null,
      "metadata": {},
      "outputs": [],
      "source": [
        "?range"
      ]
    },
    {
      "cell_type": "code",
      "execution_count": 15,
      "metadata": {
        "id": "T0Sh90z_XVx2",
        "scrolled": true
      },
      "outputs": [],
      "source": [
        "# Test range here\n"
      ]
    },
    {
      "cell_type": "markdown",
      "metadata": {
        "id": "W9UtYYheXVx2"
      },
      "source": [
        "# Dictionaries\n",
        "Dictionaries are also like lists, except that each element is a key-value pair. The syntax for dictionaries is `{key1 : value1, ...}:`\n",
        "\n",
        "### When dictionaries are useful\n",
        "1. Flexible & efficient way to associate labels with heterogeneous data\n",
        "2. Use where data items have, or can be given, labels\n",
        "3. Appropriate for collecting data of different kinds (e.g., name, addresses, ages)\n",
        "\n",
        "> In the cell below, create a dictionary for three neuron parts and their functions using the syntax `{part:function,...}`. Remember that strings still need parentheses!\n",
        "\n",
        "**Note**: You can also create an empty dicitionary using `{}` and fill it using `dictionary['key'] = 'value'`."
      ]
    },
    {
      "cell_type": "code",
      "execution_count": 18,
      "metadata": {
        "id": "nXghvNbAXVx3",
        "scrolled": true
      },
      "outputs": [],
      "source": [
        "anatomy = ..."
      ]
    },
    {
      "cell_type": "markdown",
      "metadata": {
        "id": "IF_Ea3fbXVx3"
      },
      "source": [
        "<div class=\"alert alert-success\"><b>Question:</b> Before running the cell below, predict: What would the following code produce?</div>"
      ]
    },
    {
      "cell_type": "code",
      "execution_count": null,
      "metadata": {
        "id": "Pc09v2XeXVx3",
        "scrolled": true
      },
      "outputs": [],
      "source": [
        "anatomy.update({'Myelin':'Sheath of fatty tissue that insulates the axon'})\n",
        "anatomy"
      ]
    },
    {
      "cell_type": "markdown",
      "metadata": {
        "id": "GMtYVrQpXVx3"
      },
      "source": [
        "<div class=\"alert alert-success\"><b>Task</b>: What happens if we look for a key that doesn't exist? Try this above."
      ]
    },
    {
      "cell_type": "markdown",
      "metadata": {
        "id": "6qx6iqVbXVx3"
      },
      "source": [
        "\n",
        "### Additional dictionary functionality\n",
        "- Use `anatomy.update(anatomy)` to add another dictionary entry\n",
        "- Use `del anatomy['soma']` to delete entries\n",
        "- Loop by key or values, or both"
      ]
    },
    {
      "cell_type": "markdown",
      "metadata": {},
      "source": [
        "### Example of dictionaries using some NEUSCI301 data\n",
        "\n",
        "Soon we will learn a lot about neuscitk, a package developed by the previous instructor of this class that contains functionality for analyzing LabChart data. Below, there will be some cells importing the package and laoding in the data. You do not need to understand the functionality of this code yet (except for the structure of the dictionary that we will produce).\n",
        "\n",
        "Go to the canvas and download the **demo_data.mat** file in the Week two module. Then, put it in the same folder as this notebook that you are currently working on, or write to its location where indicated."
      ]
    },
    {
      "cell_type": "code",
      "execution_count": 20,
      "metadata": {},
      "outputs": [],
      "source": [
        "# Don't worry if you don't understand this cell yet! Currently, its only purpose is to load our data \n",
        "\n",
        "import neuscitk as ntk # imports neuscitk\n",
        "dataset = ntk.LabChartDataset(r'neusci302_demo.mat') # loads in our data. \n",
        "                                                    # Put your path between the single quotes if the current call isnt working, for example r'Users\\pascha\\Downloads\\demo_data.mat' \n",
        "                                                                                                                                # (with whatever backslash convention works for your laptop)\n",
        "block1_data = dataset.get_block([1]) # retrieves the piece of data we want (more on this syntax later!)"
      ]
    },
    {
      "cell_type": "code",
      "execution_count": null,
      "metadata": {},
      "outputs": [],
      "source": [
        "# check the type of block1_data\n",
        "\n",
        "# print block1_data\n",
        "\n",
        "#optionally, practice with looking at different blocks by changing the number in dataset.get_block([X]) and printing the keys and values of the resulting dictionary"
      ]
    },
    {
      "cell_type": "markdown",
      "metadata": {},
      "source": [
        "Each of those 'blocks' we were accessing above are actually the pages from your LabChart recording! We practice in detail exactly how to access and subsequently analyze those pages in the future. "
      ]
    },
    {
      "cell_type": "markdown",
      "metadata": {
        "id": "dQOSoX7NXVx3"
      },
      "source": [
        "<hr>\n",
        "\n",
        "## Additional resources\n",
        "<a href=\"https://swcarpentry.github.io/python-novice-gapminder/11-lists/index.html\">Software Carpentries Lists</a>\n",
        "\n",
        "<a href=\"https://python101.pythonlibrary.org/chapter3_lists_dicts.html\">Python 101: Lists, Tuples, and Dictionaries</a>\n",
        "\n",
        "<a href=\"https://github.com/jakevdp/WhirlwindTourOfPython/blob/6f1daf714fe52a8dde6a288674ba46a7feed8816/06-Built-in-Data-Structures.ipynb\">Whirlwind Tour of Python: Built-In Data Structures</a>\n"
      ]
    },
    {
      "cell_type": "markdown",
      "metadata": {
        "id": "YpmSF1whXVx3"
      },
      "source": [
        "## About this notebook\n",
        "This notebook is largely derived from UCSD COGS18 Materials, created by Tom Donoghue & Shannon Ellis, as well as the <a href=\"https://github.com/jrjohansson/scientific-python-lectures/blob/master/Lecture-1-Introduction-to-Python-Programming.ipynb\">Scientific Python Lecture</a> by J.R. Johansson."
      ]
    }
  ],
  "metadata": {
    "colab": {
      "provenance": []
    },
    "kernelspec": {
      "display_name": "neusci440",
      "language": "python",
      "name": "python3"
    },
    "language_info": {
      "codemirror_mode": {
        "name": "ipython",
        "version": 3
      },
      "file_extension": ".py",
      "mimetype": "text/x-python",
      "name": "python",
      "nbconvert_exporter": "python",
      "pygments_lexer": "ipython3",
      "version": "3.13.1"
    },
    "rise": {
      "theme": "serif"
    }
  },
  "nbformat": 4,
  "nbformat_minor": 0
}
